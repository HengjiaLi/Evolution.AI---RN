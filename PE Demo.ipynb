{
 "cells": [
  {
   "cell_type": "code",
   "execution_count": 1,
   "metadata": {},
   "outputs": [],
   "source": [
    "def cvt_coord(i):\n",
    "    return [(i/5-2)/2., (i%5-2)/2.]"
   ]
  },
  {
   "cell_type": "code",
   "execution_count": 33,
   "metadata": {},
   "outputs": [],
   "source": [
    "import numpy as np\n",
    "coord = np.zeros((1, 25, 2))"
   ]
  },
  {
   "cell_type": "code",
   "execution_count": 34,
   "metadata": {},
   "outputs": [],
   "source": [
    "for i in range(25):#5x5 feature map\n",
    "    coord[:,i,:] = np.array(cvt_coord(i))"
   ]
  },
  {
   "cell_type": "code",
   "execution_count": 41,
   "metadata": {},
   "outputs": [],
   "source": [
    "coord = np.squeeze(coord)\n",
    "x =coord[:,0].reshape(5,5)\n",
    "y = coord[:,1].reshape(5,5)"
   ]
  },
  {
   "cell_type": "code",
   "execution_count": 42,
   "metadata": {},
   "outputs": [
    {
     "data": {
      "text/plain": [
       "<matplotlib.image.AxesImage at 0x115ea8990>"
      ]
     },
     "execution_count": 42,
     "metadata": {},
     "output_type": "execute_result"
    },
    {
     "data": {
      "image/png": "[encoded data removed]",
      "text/plain": [
       "<Figure size 432x288 with 2 Axes>"
      ]
     },
     "metadata": {
      "needs_background": "light"
     },
     "output_type": "display_data"
    }
   ],
   "source": [
    "fig, (ax1, ax2) = plt.subplots(1, 2)\n",
    "ax1.imshow(x)\n",
    "ax2.imshow(y)"
   ]
  },
  {
   "cell_type": "code",
   "execution_count": 43,
   "metadata": {},
   "outputs": [
    {
     "data": {
      "text/plain": [
       "array([[-1. , -1. ],\n",
       "       [-0.9, -0.5],\n",
       "       [-0.8,  0. ],\n",
       "       [-0.7,  0.5],\n",
       "       [-0.6,  1. ],\n",
       "       [-0.5, -1. ],\n",
       "       [-0.4, -0.5],\n",
       "       [-0.3,  0. ],\n",
       "       [-0.2,  0.5],\n",
       "       [-0.1,  1. ],\n",
       "       [ 0. , -1. ],\n",
       "       [ 0.1, -0.5],\n",
       "       [ 0.2,  0. ],\n",
       "       [ 0.3,  0.5],\n",
       "       [ 0.4,  1. ],\n",
       "       [ 0.5, -1. ],\n",
       "       [ 0.6, -0.5],\n",
       "       [ 0.7,  0. ],\n",
       "       [ 0.8,  0.5],\n",
       "       [ 0.9,  1. ],\n",
       "       [ 1. , -1. ],\n",
       "       [ 1.1, -0.5],\n",
       "       [ 1.2,  0. ],\n",
       "       [ 1.3,  0.5],\n",
       "       [ 1.4,  1. ]])"
      ]
     },
     "execution_count": 43,
     "metadata": {},
     "output_type": "execute_result"
    }
   ],
   "source": [
    "coord"
   ]
  },
  {
   "cell_type": "code",
   "execution_count": null,
   "metadata": {},
   "outputs": [],
   "source": []
  }
 ],
 "metadata": {
  "kernelspec": {
   "display_name": "Python 3",
   "language": "python",
   "name": "python3"
  },
  "language_info": {
   "codemirror_mode": {
    "name": "ipython",
    "version": 3
   },
   "file_extension": ".py",
   "mimetype": "text/x-python",
   "name": "python",
   "nbconvert_exporter": "python",
   "pygments_lexer": "ipython3",
   "version": "3.7.6"
  }
 },
 "nbformat": 4,
 "nbformat_minor": 4
}
