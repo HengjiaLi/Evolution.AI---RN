{
 "cells": [
  {
   "cell_type": "code",
   "execution_count": 1,
   "metadata": {},
   "outputs": [],
   "source": [
    "def cvt_coord(i):\n",
    "    return [(i//5-2)/2., (i%5-2)/2.]\n",
    "    #return [np.random.rand(),(i%5-2)/2.]"
   ]
  },
  {
   "cell_type": "code",
   "execution_count": 2,
   "metadata": {},
   "outputs": [],
   "source": [
    "import numpy as np\n",
    "coord = np.zeros((1, 25, 2))"
   ]
  },
  {
   "cell_type": "code",
   "execution_count": 3,
   "metadata": {},
   "outputs": [],
   "source": [
    "for i in range(25):#5x5 feature map\n",
    "    coord[:,i,:] = np.array(cvt_coord(i))"
   ]
  },
  {
   "cell_type": "code",
   "execution_count": 4,
   "metadata": {},
   "outputs": [],
   "source": [
    "coord = np.squeeze(coord)\n",
    "x =coord[:,0].reshape(5,5)\n",
    "y = coord[:,1].reshape(5,5)"
   ]
  },
  {
   "cell_type": "code",
   "execution_count": 5,
   "metadata": {},
   "outputs": [
    {
     "data": {
      "text/plain": [
       "<matplotlib.image.AxesImage at 0x117bca430>"
      ]
     },
     "execution_count": 5,
     "metadata": {},
     "output_type": "execute_result"
    },
    {
     "data": {
      "image/png": "[encoded data removed]",
      "text/plain": [
       "<Figure size 432x288 with 2 Axes>"
      ]
     },
     "metadata": {
      "needs_background": "light"
     },
     "output_type": "display_data"
    }
   ],
   "source": [
    "from matplotlib import pyplot as plt\n",
    "fig, (ax1, ax2) = plt.subplots(1, 2)\n",
    "ax1.imshow(x)\n",
    "ax2.imshow(y)"
   ]
  },
  {
   "cell_type": "code",
   "execution_count": 6,
   "metadata": {},
   "outputs": [
    {
     "data": {
      "text/plain": [
       "<matplotlib.image.AxesImage at 0x118083e20>"
      ]
     },
     "execution_count": 6,
     "metadata": {},
     "output_type": "execute_result"
    },
    {
     "data": {
      "image/png": "[encoded data removed]",
      "text/plain": [
       "<Figure size 432x288 with 1 Axes>"
      ]
     },
     "metadata": {
      "needs_background": "light"
     },
     "output_type": "display_data"
    }
   ],
   "source": [
    "plt.imshow(coord)"
   ]
  },
  {
   "cell_type": "code",
   "execution_count": 7,
   "metadata": {},
   "outputs": [],
   "source": [
    "def cvt_coord(i):\n",
    "    xy_dim = 12\n",
    "    feature_dim = 24\n",
    "    dim_t = np.arange(xy_dim)\n",
    "    dim_t = 10000**(2 * (dim_t // 2) / feature_dim )\n",
    "    x = i//5#row\n",
    "    y = i%5#col\n",
    "    x_pos = dim_t \n",
    "    y_pos = dim_t.copy()\n",
    "\n",
    "    x_pos[0:xy_dim:2] = np.sin(x/x_pos[0:xy_dim:2])\n",
    "    x_pos[1:xy_dim:2] = np.cos(x/x_pos[1:xy_dim:2])\n",
    "    y_pos[0:xy_dim:2] = np.sin(y/y_pos[0:xy_dim:2])\n",
    "    y_pos[1:xy_dim:2] = np.cos(y/y_pos[1:xy_dim:2])\n",
    "    #x_pos = np.random.rand(self.xy_dim)\n",
    "    pos = np.concatenate((x_pos,y_pos))\n",
    "    return pos"
   ]
  },
  {
   "cell_type": "code",
   "execution_count": 10,
   "metadata": {},
   "outputs": [],
   "source": [
    "np_coord_tensor = np.zeros((64,25,24))#64x25x24\n",
    "for i in range(25):#5x5 feature map\n",
    "    np_coord_tensor[:,i,:] = np.array(cvt_coord(i))"
   ]
  },
  {
   "cell_type": "code",
   "execution_count": 14,
   "metadata": {},
   "outputs": [
    {
     "data": {
      "text/plain": [
       "Text(0.5, 0, '24-dimensional ')"
      ]
     },
     "execution_count": 14,
     "metadata": {},
     "output_type": "execute_result"
    },
    {
     "data": {
      "image/png": "[encoded data removed]",
      "text/plain": [
       "<Figure size 432x288 with 1 Axes>"
      ]
     },
     "metadata": {
      "needs_background": "light"
     },
     "output_type": "display_data"
    }
   ],
   "source": [
    "plt.imshow(np_coord_tensor[63])\n",
    "plt.ylabel('25-dimensional \"pos\"')\n",
    "plt.xlabel('24-dimensional depth \"k\"')"
   ]
  },
  {
   "cell_type": "code",
   "execution_count": null,
   "metadata": {},
   "outputs": [],
   "source": [
    "import os\n",
    "import pickle\n",
    "def load_data():\n",
    "    print('loading data...')\n",
    "    dirs = './data'\n",
    "    filename = os.path.join(dirs,'more-clevr.pickle')\n",
    "    with open(filename, 'rb') as f:\n",
    "      train_datasets, test_datasets = pickle.load(f)\n",
    "    rel_train = []\n",
    "    rel_test = []\n",
    "    norel_train = []\n",
    "    norel_test = []\n",
    "    print('processing data...')\n",
    "\n",
    "    for img, relations, norelations in train_datasets:\n",
    "        img = np.swapaxes(img, 0, 2)\n",
    "        for qst,ans in zip(relations[0], relations[1]):\n",
    "            rel_train.append((img,qst,ans))\n",
    "        for qst,ans in zip(norelations[0], norelations[1]):\n",
    "            norel_train.append((img,qst,ans))\n",
    "\n",
    "    for img, relations, norelations in test_datasets:\n",
    "        img = np.swapaxes(img, 0, 2)\n",
    "        for qst,ans in zip(relations[0], relations[1]):\n",
    "            rel_test.append((img,qst,ans))\n",
    "        for qst,ans in zip(norelations[0], norelations[1]):\n",
    "            norel_test.append((img,qst,ans))\n",
    "    \n",
    "    return (rel_train, rel_test, norel_train, norel_test)"
   ]
  },
  {
   "cell_type": "code",
   "execution_count": null,
   "metadata": {},
   "outputs": [],
   "source": [
    "rel_train, rel_test, norel_train, norel_test = load_data()"
   ]
  },
  {
   "cell_type": "code",
   "execution_count": null,
   "metadata": {},
   "outputs": [],
   "source": [
    "rel_test[1][1]"
   ]
  },
  {
   "cell_type": "code",
   "execution_count": null,
   "metadata": {},
   "outputs": [],
   "source": [
    "img = np.einsum('abc->bca', rel_test[1][0])\n",
    "plt.imshow(img[:,:,::-1])"
   ]
  },
  {
   "cell_type": "code",
   "execution_count": null,
   "metadata": {},
   "outputs": [],
   "source": [
    "np.squeeze(norel_test)[:,1].sum()"
   ]
  },
  {
   "cell_type": "code",
   "execution_count": null,
   "metadata": {},
   "outputs": [],
   "source": [
    "a = [73,75,73]\n",
    "print(np.average(a))\n",
    "print(np.std(a))"
   ]
  },
  {
   "cell_type": "code",
   "execution_count": null,
   "metadata": {},
   "outputs": [],
   "source": [
    "import torch\n",
    "x = torch.tensor([[[1,2,3],[4,5,6],[7,8,9]],[[1,2,3],[4,5,6],[7,8,9]]])\n",
    "x = torch.einsum('abc->acb', x)\n",
    "x= x.contiguous()\n",
    "x.shape"
   ]
  },
  {
   "cell_type": "code",
   "execution_count": null,
   "metadata": {},
   "outputs": [],
   "source": [
    "x.view(2,9)"
   ]
  },
  {
   "cell_type": "code",
   "execution_count": null,
   "metadata": {},
   "outputs": [],
   "source": [
    "y = x.clone()\n",
    "y"
   ]
  },
  {
   "cell_type": "code",
   "execution_count": null,
   "metadata": {},
   "outputs": [],
   "source": [
    "np.dot([1,2],[3,4])"
   ]
  },
  {
   "cell_type": "code",
   "execution_count": null,
   "metadata": {},
   "outputs": [],
   "source": [
    "def cvt_coord(i,j):\n",
    "    xy_dim = 2\n",
    "    feature_dim = 4\n",
    "    dim_t = np.arange(xy_dim)\n",
    "    dim_t = 10000**(2 * (dim_t // 2) / feature_dim )\n",
    "\n",
    "    #positional encoding for pixel at ith position\n",
    "    x1 = i//5#row\n",
    "    y1 = i%5#col\n",
    "    x1_pos = dim_t.copy()\n",
    "    y1_pos = dim_t.copy()\n",
    "\n",
    "    x1_pos[0:xy_dim:2] = np.sin(x1/x1_pos[0:xy_dim:2])\n",
    "    x1_pos[1:xy_dim:2] = np.cos(x1/x1_pos[1:xy_dim:2])\n",
    "    y1_pos[0:xy_dim:2] = np.sin(y1/y1_pos[0:xy_dim:2])\n",
    "    y1_pos[1:xy_dim:2] = np.cos(y1/y1_pos[1:xy_dim:2])\n",
    "    #y_pos = np.random.rand(self.xy_dim)\n",
    "    pos1 = np.concatenate((x1_pos,y1_pos))\n",
    "\n",
    "    #positional encoding for pixel at ith position\n",
    "    x2 = j//5#row\n",
    "    y2 = j%5#col\n",
    "    x2_pos = dim_t.copy()\n",
    "    y2_pos = dim_t.copy()\n",
    "\n",
    "    x2_pos[0:xy_dim:2] = np.sin(x2/x2_pos[0:xy_dim:2])\n",
    "    x2_pos[1:xy_dim:2] = np.cos(x2/x2_pos[1:xy_dim:2])\n",
    "    y2_pos[0:xy_dim:2] = np.sin(y2/y2_pos[0:xy_dim:2])\n",
    "    y2_pos[1:xy_dim:2] = np.cos(y2/y2_pos[1:xy_dim:2])\n",
    "    #y_pos = np.random.rand(self.xy_dim)\n",
    "    pos2 = np.concatenate((x2_pos,y2_pos))\n",
    "\n",
    "    x_relative = np.dot(x1_pos,x2_pos)\n",
    "    y_relative = np.dot(y1_pos,y2_pos)\n",
    "    \n",
    "    pos = np.concatenate([pos1,pos2,[x_relative,y_relative]])\n",
    "    #pos = [x_relative,y_relative]\n",
    "    return pos"
   ]
  },
  {
   "cell_type": "code",
   "execution_count": null,
   "metadata": {},
   "outputs": [],
   "source": [
    "np_coord_tensor = np.zeros((64,25,25,10))#64x25x24\n",
    "for i in range(25):#5x5 feature map\n",
    "    for j in range(25):\n",
    "        np_coord_tensor[:,i,j,:] = np.array(cvt_coord(i,j))"
   ]
  },
  {
   "cell_type": "code",
   "execution_count": null,
   "metadata": {},
   "outputs": [],
   "source": [
    "plt.imshow(np_coord_tensor[0,0,:,:])"
   ]
  },
  {
   "cell_type": "code",
   "execution_count": null,
   "metadata": {},
   "outputs": [],
   "source": [
    "import torch\n",
    "import torch.nn as nn"
   ]
  },
  {
   "cell_type": "code",
   "execution_count": null,
   "metadata": {},
   "outputs": [],
   "source": [
    "w_y = nn.Parameter(torch.rand(25, 12)) #25x12\n",
    "cita_y = nn.Parameter(torch.rand(25, 12)) \n",
    "r_y = nn.Parameter(torch.rand(25, 12)) "
   ]
  },
  {
   "cell_type": "code",
   "execution_count": null,
   "metadata": {},
   "outputs": [],
   "source": [
    "col = torch.arange(5.0).repeat(5)\n",
    "col = torch.unsqueeze(col,1).repeat(1,12)\n",
    "#plt.imshow(torch.mul(r_y,torch.sin(torch.mul(col,w_y)+cita_y)).detach().numpy())\n",
    "#torch.mul(r_y,torch.sin(torch.mul(col,w_y)+cita_y))[:,0:12:2].shape\n",
    "col"
   ]
  },
  {
   "cell_type": "code",
   "execution_count": null,
   "metadata": {},
   "outputs": [],
   "source": [
    "row = torch.arange(5.0).repeat_interleave(5)\n",
    "row = torch.unsqueeze(row,1).repeat(1,12)\n",
    "plt.imshow(row)"
   ]
  },
  {
   "cell_type": "code",
   "execution_count": null,
   "metadata": {},
   "outputs": [],
   "source": [
    "plt.imshow(torch.cat((row,col),dim=1).detach().numpy())"
   ]
  },
  {
   "cell_type": "code",
   "execution_count": null,
   "metadata": {},
   "outputs": [],
   "source": [
    "a = torch.arange(12)\n",
    "torch.stack((0*a[0::2],a[1::2]),dim = 1)"
   ]
  },
  {
   "cell_type": "code",
   "execution_count": null,
   "metadata": {},
   "outputs": [],
   "source": [
    "torch.stack((pos_x[:, :, :, 0::2].sin(), pos_x[:, :, :, 1::2].cos()), dim=4).flatten(3)"
   ]
  }
 ],
 "metadata": {
  "kernelspec": {
   "display_name": "Python 3",
   "language": "python",
   "name": "python3"
  },
  "language_info": {
   "codemirror_mode": {
    "name": "ipython",
    "version": 3
   },
   "file_extension": ".py",
   "mimetype": "text/x-python",
   "name": "python",
   "nbconvert_exporter": "python",
   "pygments_lexer": "ipython3",
   "version": "3.8.1"
  }
 },
 "nbformat": 4,
 "nbformat_minor": 4
}
