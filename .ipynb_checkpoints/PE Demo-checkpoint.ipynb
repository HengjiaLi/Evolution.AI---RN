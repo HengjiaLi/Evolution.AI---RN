{
 "cells": [
  {
   "cell_type": "code",
   "execution_count": 157,
   "metadata": {},
   "outputs": [],
   "source": [
    "def cvt_coord(i):\n",
    "    return [(i//5-2)/2., (i%5-2)/2.]"
   ]
  },
  {
   "cell_type": "code",
   "execution_count": 158,
   "metadata": {},
   "outputs": [],
   "source": [
    "import numpy as np\n",
    "coord = np.zeros((1, 25, 2))"
   ]
  },
  {
   "cell_type": "code",
   "execution_count": 159,
   "metadata": {},
   "outputs": [],
   "source": [
    "for i in range(25):#5x5 feature map\n",
    "    coord[:,i,:] = np.array(cvt_coord(i))"
   ]
  },
  {
   "cell_type": "code",
   "execution_count": 160,
   "metadata": {},
   "outputs": [],
   "source": [
    "coord = np.squeeze(coord)\n",
    "x =coord[:,0].reshape(5,5)\n",
    "y = coord[:,1].reshape(5,5)"
   ]
  },
  {
   "cell_type": "code",
   "execution_count": 164,
   "metadata": {},
   "outputs": [
    {
     "ename": "ModuleNotFoundError",
     "evalue": "No module named 'matplotlib'",
     "output_type": "error",
     "traceback": [
      "\u001b[0;31m---------------------------------------------------------------------------\u001b[0m",
      "\u001b[0;31mModuleNotFoundError\u001b[0m                       Traceback (most recent call last)",
      "\u001b[0;32m<ipython-input-164-3d5e89c069ae>\u001b[0m in \u001b[0;36m<module>\u001b[0;34m\u001b[0m\n\u001b[0;32m----> 1\u001b[0;31m \u001b[0;32mfrom\u001b[0m \u001b[0mmatplotlib\u001b[0m \u001b[0;32mimport\u001b[0m \u001b[0mpyplot\u001b[0m \u001b[0;32mas\u001b[0m \u001b[0mplt\u001b[0m\u001b[0;34m\u001b[0m\u001b[0;34m\u001b[0m\u001b[0m\n\u001b[0m\u001b[1;32m      2\u001b[0m \u001b[0mfig\u001b[0m\u001b[0;34m,\u001b[0m \u001b[0;34m(\u001b[0m\u001b[0max1\u001b[0m\u001b[0;34m,\u001b[0m \u001b[0max2\u001b[0m\u001b[0;34m)\u001b[0m \u001b[0;34m=\u001b[0m \u001b[0mplt\u001b[0m\u001b[0;34m.\u001b[0m\u001b[0msubplots\u001b[0m\u001b[0;34m(\u001b[0m\u001b[0;36m1\u001b[0m\u001b[0;34m,\u001b[0m \u001b[0;36m2\u001b[0m\u001b[0;34m)\u001b[0m\u001b[0;34m\u001b[0m\u001b[0;34m\u001b[0m\u001b[0m\n\u001b[1;32m      3\u001b[0m \u001b[0max1\u001b[0m\u001b[0;34m.\u001b[0m\u001b[0mimshow\u001b[0m\u001b[0;34m(\u001b[0m\u001b[0mx\u001b[0m\u001b[0;34m)\u001b[0m\u001b[0;34m\u001b[0m\u001b[0;34m\u001b[0m\u001b[0m\n\u001b[1;32m      4\u001b[0m \u001b[0max2\u001b[0m\u001b[0;34m.\u001b[0m\u001b[0mimshow\u001b[0m\u001b[0;34m(\u001b[0m\u001b[0my\u001b[0m\u001b[0;34m)\u001b[0m\u001b[0;34m\u001b[0m\u001b[0;34m\u001b[0m\u001b[0m\n",
      "\u001b[0;31mModuleNotFoundError\u001b[0m: No module named 'matplotlib'"
     ]
    }
   ],
   "source": [
    "from matplotlib import pyplot as plt\n",
    "fig, (ax1, ax2) = plt.subplots(1, 2)\n",
    "ax1.imshow(x)\n",
    "ax2.imshow(y)"
   ]
  },
  {
   "cell_type": "code",
   "execution_count": 43,
   "metadata": {},
   "outputs": [
    {
     "data": {
      "text/plain": [
       "array([[-1. , -1. ],\n",
       "       [-0.9, -0.5],\n",
       "       [-0.8,  0. ],\n",
       "       [-0.7,  0.5],\n",
       "       [-0.6,  1. ],\n",
       "       [-0.5, -1. ],\n",
       "       [-0.4, -0.5],\n",
       "       [-0.3,  0. ],\n",
       "       [-0.2,  0.5],\n",
       "       [-0.1,  1. ],\n",
       "       [ 0. , -1. ],\n",
       "       [ 0.1, -0.5],\n",
       "       [ 0.2,  0. ],\n",
       "       [ 0.3,  0.5],\n",
       "       [ 0.4,  1. ],\n",
       "       [ 0.5, -1. ],\n",
       "       [ 0.6, -0.5],\n",
       "       [ 0.7,  0. ],\n",
       "       [ 0.8,  0.5],\n",
       "       [ 0.9,  1. ],\n",
       "       [ 1. , -1. ],\n",
       "       [ 1.1, -0.5],\n",
       "       [ 1.2,  0. ],\n",
       "       [ 1.3,  0.5],\n",
       "       [ 1.4,  1. ]])"
      ]
     },
     "execution_count": 43,
     "metadata": {},
     "output_type": "execute_result"
    }
   ],
   "source": [
    "coord"
   ]
  },
  {
   "cell_type": "code",
   "execution_count": 130,
   "metadata": {},
   "outputs": [],
   "source": [
    "def cvt_coord(i):\n",
    "    dim_t = np.arange(12)\n",
    "    dim_t = 10000**(2 * (dim_t // 2)/24)\n",
    "    x = i//5\n",
    "    y = i%5\n",
    "    x_pos = dim_t \n",
    "    y_pos = dim_t\n",
    "\n",
    "    x_pos[0:12:2] = np.sin(x/x_pos[0:12:2])\n",
    "    x_pos[1:12:2] = np.cos(x/x_pos[1:12:2])\n",
    "    y_pos[0:12:2] = np.sin(x/y_pos[0:12:2])\n",
    "    y_pos[1:12:2] = np.cos(x/y_pos[1:12:2])\n",
    "    pos = np.concatenate((x_pos,y_pos))\n",
    "    return pos"
   ]
  },
  {
   "cell_type": "code",
   "execution_count": 142,
   "metadata": {},
   "outputs": [],
   "source": [
    "np_coord_tensor = np.zeros((25, 24))#64x25x24\n",
    "for i in range(25):#5x5 feature map\n",
    "    np_coord_tensor[i,:] = np.array(cvt_coord(i))"
   ]
  },
  {
   "cell_type": "code",
   "execution_count": null,
   "metadata": {},
   "outputs": [],
   "source": []
  }
 ],
 "metadata": {
  "kernelspec": {
   "display_name": "Python 3",
   "language": "python",
   "name": "python3"
  },
  "language_info": {
   "codemirror_mode": {
    "name": "ipython",
    "version": 3
   },
   "file_extension": ".py",
   "mimetype": "text/x-python",
   "name": "python",
   "nbconvert_exporter": "python",
   "pygments_lexer": "ipython3",
   "version": "3.8.1"
  }
 },
 "nbformat": 4,
 "nbformat_minor": 4
}
