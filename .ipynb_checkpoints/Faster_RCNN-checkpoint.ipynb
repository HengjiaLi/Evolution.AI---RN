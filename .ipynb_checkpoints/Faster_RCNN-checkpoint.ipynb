{
 "cells": [
  {
   "cell_type": "code",
   "execution_count": 65,
   "metadata": {
    "colab": {},
    "colab_type": "code",
    "executionInfo": {
     "elapsed": 1119,
     "status": "ok",
     "timestamp": 1599082673377,
     "user": {
      "displayName": "Hengjia Li",
      "photoUrl": "",
      "userId": "02854047283997062253"
     },
     "user_tz": -480
    },
    "id": "OMugsY_YzwXW"
   },
   "outputs": [],
   "source": [
    "# import packages \n",
    "import cv2\n",
    "import os\n",
    "import numpy as np\n",
    "import random\n",
    "#import cPickle as pickle\n",
    "import pickle\n",
    "import warnings\n",
    "import torch\n",
    "import torchvision\n",
    "import sys\n",
    "import copy\n",
    "%matplotlib notebook\n",
    "%matplotlib inline\n",
    "from matplotlib import pyplot as plt\n",
    "from PIL import Image\n",
    "from google.colab.patches import cv2_imshow"
   ]
  },
  {
   "cell_type": "code",
   "execution_count": 66,
   "metadata": {
    "colab": {
     "base_uri": "https://localhost:8080/",
     "height": 34
    },
    "colab_type": "code",
    "executionInfo": {
     "elapsed": 1104,
     "status": "ok",
     "timestamp": 1599082673379,
     "user": {
      "displayName": "Hengjia Li",
      "photoUrl": "",
      "userId": "02854047283997062253"
     },
     "user_tz": -480
    },
    "id": "N56l6S5FZvat",
    "outputId": "a6f2ca9f-8520-480d-a62d-8ec6a0125d1d"
   },
   "outputs": [
    {
     "name": "stdout",
     "output_type": "stream",
     "text": [
      "Drive already mounted at /content/drive; to attempt to forcibly remount, call drive.mount(\"/content/drive\", force_remount=True).\n"
     ]
    }
   ],
   "source": [
    "# mount script on Gdrive\n",
    "from google.colab import drive\n",
    "drive.mount('/content/drive')\n",
    "sys.path.append('/content/drive/My Drive/Evolution.AI---RN')"
   ]
  },
  {
   "cell_type": "code",
   "execution_count": 3,
   "metadata": {
    "colab": {},
    "colab_type": "code",
    "executionInfo": {
     "elapsed": 2122,
     "status": "ok",
     "timestamp": 1599077665222,
     "user": {
      "displayName": "Hengjia Li",
      "photoUrl": "",
      "userId": "02854047283997062253"
     },
     "user_tz": -480
    },
    "id": "9_kgBB-U2NeC"
   },
   "outputs": [],
   "source": [
    "# Create dataset\n",
    "\n",
    "img_size = 75\n",
    "size = 5 #radius of object\n",
    "question_size = 19 ## (6 for one-hot vector of color), 2 for question type, 5 for question subtype\n",
    "q_type_idx = 12\n",
    "sub_q_type_idx = 14\n",
    "\"\"\"Answer : [yes, no, rectangle, circle, r, g, b, o, k, y]\"\"\"\n",
    "\n",
    "nb_questions = 15\n",
    "dirs = './data'\n",
    "dirs = F\"/content/drive/My Drive/Evolution.AI---RN/data\"\n",
    "colors = [\n",
    "    (0,0,255),##r\n",
    "    (0,255,0),##g\n",
    "    (255,0,0),##b\n",
    "    (0,156,255),##o\n",
    "    (128,128,128),##k\n",
    "    (0,255,255)##y\n",
    "]\n",
    "\n",
    "def center_generate(objects):\n",
    "    while True:\n",
    "        pas = True\n",
    "        center = np.random.randint(0+size, img_size - size, 2)\n",
    "        #a =  np.random.randint(0+size, img_size - size, 2)\n",
    "        #center = np.asarray([a[1],a[0]])#flip x-y coordinate\n",
    "        if len(objects) > 0:\n",
    "            for name,c,shape in objects:\n",
    "                if ((center - c) ** 2).sum() < ((size * 2) ** 2):\n",
    "                    pas = False\n",
    "        if pas:\n",
    "            return center\n",
    "            \n",
    "def build_dataset(idx):#for each image\n",
    "    objects = []\n",
    "    boxes = []\n",
    "    labels = []\n",
    "    img = np.ones((img_size,img_size,3)) * 255\n",
    "    for color_id,color in enumerate(colors):  \n",
    "        center = center_generate(objects)\n",
    "        x_min = center[0] - size\n",
    "        x_max = center[0] + size\n",
    "        y_min = center[1] - size\n",
    "        y_max = center[1] + size\n",
    "        boxes.append([x_min, y_min, x_max, y_max])\n",
    "        \n",
    "        if random.random()<0.5:\n",
    "            start = (center[0]-size, center[1]-size)\n",
    "            end = (center[0]+size, center[1]+size)\n",
    "            cv2.rectangle(img, start, end, color, -1)#artificially generates recs\n",
    "            objects.append((color_id,center,'r'))\n",
    "            labels.append(color_id+1)#label starts from 1\n",
    "        else:\n",
    "            center_ = (center[0], center[1])\n",
    "            cv2.circle(img, center_, size, color, -1)#artificially generates circles\n",
    "            objects.append((color_id,center,'c'))\n",
    "            labels.append(color_id+7)\n",
    "\n",
    "    boxes = torch.as_tensor(boxes, dtype=torch.float32)\n",
    "    labels = torch.as_tensor(labels, dtype=torch.int64)\n",
    "    image_id = torch.tensor([idx])\n",
    "    area = torch.ones((6,), dtype=torch.int64)*100\n",
    "    iscrowd = torch.zeros((6,), dtype=torch.int64)\n",
    "\n",
    "    target = {}\n",
    "    target[\"boxes\"] = boxes\n",
    "    target[\"labels\"] = labels\n",
    "    target[\"image_id\"] = image_id\n",
    "    target[\"area\"] = area\n",
    "    target[\"iscrowd\"] = iscrowd\n",
    "\n",
    "    #ternary_questions = []\n",
    "    binary_questions = []\n",
    "    norel_questions = []\n",
    "    #ternary_answers = []\n",
    "    binary_answers = []\n",
    "    norel_answers = []\n",
    "    \"\"\"Non-relational questions\"\"\"\n",
    "    for _ in range(nb_questions):\n",
    "        question = np.zeros((question_size))\n",
    "        color = random.randint(0,5)\n",
    "        question[color] = 1\n",
    "        question[q_type_idx] = 1\n",
    "        subtype = random.randint(0,2)\n",
    "        question[subtype+sub_q_type_idx] = 1\n",
    "        norel_questions.append(question)\n",
    "        \"\"\"Answer : [yes, no, rectangle, circle, r, g, b, o, k, y]\"\"\"\n",
    "        if subtype == 0:#14\n",
    "            \"\"\"query shape->rectangle/circle\"\"\"\n",
    "            if objects[color][2] == 'r':\n",
    "                answer = 2\n",
    "            else:\n",
    "                answer = 3\n",
    "\n",
    "        elif subtype == 1:#15\n",
    "            \"\"\"query vertical position->yes/no\"\"\"\n",
    "            if objects[color][1][0] < img_size / 2:#check row ind\n",
    "                answer = 0\n",
    "            else:\n",
    "                answer = 1\n",
    "\n",
    "        elif subtype == 2:#16\n",
    "            \"\"\"query horizontal position->yes/no\"\"\"\n",
    "            if objects[color][1][1] < img_size / 2:#check col ind\n",
    "                answer = 0\n",
    "            else:\n",
    "                answer = 1\n",
    "        norel_answers.append(answer)\n",
    "    \n",
    "    \"\"\"Binary Relational questions\"\"\"\n",
    "    for _ in range(nb_questions):\n",
    "        question = np.zeros((question_size))\n",
    "        color = random.randint(0,5)\n",
    "        question[color] = 1\n",
    "        question[q_type_idx+1] = 1\n",
    "        subtype = random.randint(0,4)\n",
    "        question[subtype+sub_q_type_idx] = 1\n",
    "        \n",
    "        if subtype == 0:#14\n",
    "            \"\"\"closest-to->rectangle/circle\"\"\"\n",
    "            my_obj = objects[color][1]# coordinate of object's centre\n",
    "            dist_list = [((my_obj - obj[1]) ** 2).sum() for obj in objects]\n",
    "            dist_list[dist_list.index(0)] = 999\n",
    "            closest = dist_list.index(min(dist_list))\n",
    "            if objects[closest][2] == 'r':\n",
    "                answer = 2\n",
    "            else:\n",
    "                answer = 3\n",
    "                \n",
    "        elif subtype == 1:#15\n",
    "            \"\"\"furthest-from->rectangle/circle\"\"\"\n",
    "            my_obj = objects[color][1]\n",
    "            dist_list = [((my_obj - obj[1]) ** 2).sum() for obj in objects]\n",
    "            furthest = dist_list.index(max(dist_list))\n",
    "            if objects[furthest][2] == 'r':\n",
    "                answer = 2\n",
    "            else:\n",
    "                answer = 3\n",
    "\n",
    "        elif subtype == 2:#16\n",
    "            \"\"\"count->1~6\"\"\"\n",
    "            my_obj = objects[color][2]\n",
    "            count = -1\n",
    "            for obj in objects:\n",
    "                if obj[2] == my_obj:\n",
    "                    count +=1 \n",
    "            answer = count+4\n",
    "        elif subtype == 3:#17\n",
    "            ''' if current object is above object 2--->yes or no'''\n",
    "            \n",
    "            color2 = random.randint(0,5)#select second color\n",
    "            question[color2+6] = 1\n",
    "            obj_1 = objects[color][1]#reference object\n",
    "            obj_2 = objects[color2][1]\n",
    "            if obj_1[0]>obj_2[0]:#compare row ind\n",
    "                answer = 0\n",
    "            else:\n",
    "                answer = 1\n",
    "      \n",
    "        elif subtype == 4:#18\n",
    "            ''' if color2 is on the left to the current object --->yes or no'''\n",
    "            color2 = random.randint(0,5)#select second color\n",
    "            question[color2+6] = 1\n",
    "            obj_1 = objects[color][1]#reference object\n",
    "            obj_2 = objects[color2][1]\n",
    "            if obj_1[1]<obj_2[1]:#compare col ind\n",
    "                answer = 0\n",
    "            else:\n",
    "                answer = 1\n",
    "\n",
    "        binary_questions.append(question)\n",
    "        binary_answers.append(answer)\n",
    "    binary_relations = (binary_questions, binary_answers)\n",
    "    norelations = (norel_questions, norel_answers)\n",
    "    \n",
    "    img = img/255.\n",
    "    dataset = (img, binary_relations, norelations, target)\n",
    "    return dataset\n"
   ]
  },
  {
   "cell_type": "code",
   "execution_count": 4,
   "metadata": {
    "colab": {
     "base_uri": "https://localhost:8080/",
     "height": 84
    },
    "colab_type": "code",
    "executionInfo": {
     "elapsed": 3331,
     "status": "ok",
     "timestamp": 1599077669130,
     "user": {
      "displayName": "Hengjia Li",
      "photoUrl": "",
      "userId": "02854047283997062253"
     },
     "user_tz": -480
    },
    "id": "7Gwj4kGk-8lK",
    "outputId": "c4543b14-89bd-4e6f-c7a3-01a0e7391d43"
   },
   "outputs": [
    {
     "name": "stdout",
     "output_type": "stream",
     "text": [
      "building train datasets...\n",
      "building test datasets...\n",
      "building validation datasets...\n",
      "done!\n"
     ]
    }
   ],
   "source": [
    "train_size = 500\n",
    "test_size = 100\n",
    "val_size = 100\n",
    "random.seed(2020)\n",
    "np.random.seed(2020)\n",
    "print('building train datasets...')\n",
    "train_datasets = [build_dataset(idx) for idx in range(train_size)]\n",
    "print('building test datasets...')\n",
    "test_datasets = [build_dataset(idx) for idx in range(train_size,train_size+test_size)]\n",
    "print('building validation datasets...')\n",
    "val_datasets = [build_dataset(idx) for idx in range(train_size+test_size,train_size+test_size+val_size)]\n",
    "print('done!')"
   ]
  },
  {
   "cell_type": "markdown",
   "metadata": {},
   "source": [
    "## The pre-trained Faster RCNN"
   ]
  },
  {
   "cell_type": "code",
   "execution_count": 5,
   "metadata": {
    "colab": {
     "base_uri": "https://localhost:8080/",
     "height": 34
    },
    "colab_type": "code",
    "executionInfo": {
     "elapsed": 2537,
     "status": "ok",
     "timestamp": 1599069309762,
     "user": {
      "displayName": "Hengjia Li",
      "photoUrl": "",
      "userId": "02854047283997062253"
     },
     "user_tz": -480
    },
    "id": "BTx9rCuR2m9Y",
    "outputId": "3743f7d8-36cc-430f-85a4-07c52c52d5ad"
   },
   "outputs": [
    {
     "name": "stdout",
     "output_type": "stream",
     "text": [
      "model loaded\n"
     ]
    }
   ],
   "source": [
    "# load pretrained RCNN model\n",
    "from torchvision.models.detection.faster_rcnn import FastRCNNPredictor\n",
    "model = torchvision.models.detection.fasterrcnn_resnet50_fpn(pretrained=True)\n",
    "model.eval()\n",
    "print('model loaded')"
   ]
  },
  {
   "cell_type": "code",
   "execution_count": 6,
   "metadata": {
    "colab": {
     "base_uri": "https://localhost:8080/",
     "height": 516
    },
    "colab_type": "code",
    "executionInfo": {
     "elapsed": 6697,
     "status": "ok",
     "timestamp": 1599069313950,
     "user": {
      "displayName": "Hengjia Li",
      "photoUrl": "",
      "userId": "02854047283997062253"
     },
     "user_tz": -480
    },
    "id": "FfPLS-oTSUGX",
    "outputId": "13ba72f0-5e68-42f8-aa89-fa5b77d81fdd"
   },
   "outputs": [
    {
     "name": "stderr",
     "output_type": "stream",
     "text": [
      "/usr/local/lib/python3.6/dist-packages/torchvision/ops/boxes.py:101: UserWarning: This overload of nonzero is deprecated:\n",
      "\tnonzero()\n",
      "Consider using one of the following signatures instead:\n",
      "\tnonzero(*, bool as_tuple) (Triggered internally at  /pytorch/torch/csrc/utils/python_arg_parser.cpp:766.)\n",
      "  keep = keep.nonzero().squeeze(1)\n",
      "Clipping input data to the valid range for imshow with RGB data ([0..1] for floats or [0..255] for integers).\n"
     ]
    },
    {
     "name": "stdout",
     "output_type": "stream",
     "text": [
      "47 12 57 22\n",
      "58 18 67 28\n",
      "28 59 38 69\n",
      "9 46 19 56\n",
      "47 13 52 22\n",
      "28 58 38 69\n",
      "47 13 49 21\n"
     ]
    },
    {
     "data": {
      "text/plain": [
       "Text(0.5, 1.0, 'Pretrained Faster RCNN')"
      ]
     },
     "execution_count": 6,
     "metadata": {
      "tags": []
     },
     "output_type": "execute_result"
    },
    {
     "data": {
      "image/png": "[encoded data removed]",
      "text/plain": [
       "<Figure size 432x288 with 1 Axes>"
      ]
     },
     "metadata": {
      "needs_background": "light",
      "tags": []
     },
     "output_type": "display_data"
    }
   ],
   "source": [
    "# Take one sample image from the dataset\n",
    "data = build_dataset(1) \n",
    "img = data[0]\n",
    "im = torch.from_numpy(img).float().permute(2,0,1)\n",
    "predictions = model([im])# Generate RCNN predictions\n",
    "bounding_boxes=predictions[0]['boxes']\n",
    "for i in range(len(bounding_boxes)):\n",
    "    x1, x2, x3, x4 = map(int, bounding_boxes[i].tolist())\n",
    "    print(x1, x2, x3, x4)\n",
    "    image = cv2.rectangle(img, (x1, x2), (x3, x4), (255, 0,0),1)\n",
    "\n",
    "plt.imshow(image)\n",
    "plt.title('Pretrained Faster RCNN')"
   ]
  },
  {
   "cell_type": "markdown",
   "metadata": {},
   "source": [
    "## Fine-tuning the RCNN"
   ]
  },
  {
   "cell_type": "code",
   "execution_count": 7,
   "metadata": {
    "colab": {
     "base_uri": "https://localhost:8080/",
     "height": 314
    },
    "colab_type": "code",
    "executionInfo": {
     "elapsed": 10554,
     "status": "ok",
     "timestamp": 1599069317823,
     "user": {
      "displayName": "Hengjia Li",
      "photoUrl": "",
      "userId": "02854047283997062253"
     },
     "user_tz": -480
    },
    "id": "sEMl66gb9iaG",
    "outputId": "a9176f90-0261-4b32-9c25-92569224a7f0"
   },
   "outputs": [
    {
     "name": "stderr",
     "output_type": "stream",
     "text": [
      "Clipping input data to the valid range for imshow with RGB data ([0..1] for floats or [0..255] for integers).\n"
     ]
    },
    {
     "data": {
      "text/plain": [
       "Text(0.5, 1.0, 'Initialised Faster RCNN')"
      ]
     },
     "execution_count": 7,
     "metadata": {
      "tags": []
     },
     "output_type": "execute_result"
    },
    {
     "data": {
      "image/png": "[encoded data removed]",
      "text/plain": [
       "<Figure size 432x288 with 1 Axes>"
      ]
     },
     "metadata": {
      "needs_background": "light",
      "tags": []
     },
     "output_type": "display_data"
    }
   ],
   "source": [
    "# initialise the RCNN's output layer\n",
    "num_classes = 12+1\n",
    "in_features = model.roi_heads.box_predictor.cls_score.in_features\n",
    "model.roi_heads.box_predictor = FastRCNNPredictor(in_features, num_classes)\n",
    "data = build_dataset(1) \n",
    "img = data[0]\n",
    "im = torch.from_numpy(img).float().permute(2,0,1)\n",
    "predictions = model([im])# generate prediction after RCNN's re-initialisation\n",
    "bounding_boxes=predictions[0]['boxes']\n",
    "for i in range(len(bounding_boxes)):\n",
    "  if i <6:\n",
    "      x1, x2, x3, x4 = map(int, bounding_boxes[i].tolist())\n",
    "      #print(x1, x2, x3, x4)\n",
    "      image = cv2.rectangle(img, (x1, x2), (x3, x4), (255, 0,0),1)\n",
    "\n",
    "plt.imshow(image[:,:,::-1])\n",
    "plt.title('Initialised Faster RCNN')"
   ]
  },
  {
   "cell_type": "code",
   "execution_count": 12,
   "metadata": {
    "colab": {
     "base_uri": "https://localhost:8080/",
     "height": 336
    },
    "colab_type": "code",
    "executionInfo": {
     "elapsed": 2958,
     "status": "ok",
     "timestamp": 1599077895418,
     "user": {
      "displayName": "Hengjia Li",
      "photoUrl": "",
      "userId": "02854047283997062253"
     },
     "user_tz": -480
    },
    "id": "DcPzL-4kiQN0",
    "outputId": "9f4f68fe-56a5-413e-f53f-2763f3a0fdc3"
   },
   "outputs": [
    {
     "name": "stdout",
     "output_type": "stream",
     "text": [
      "Cloning into 'vision'...\n",
      "remote: Enumerating objects: 2, done.\u001b[K\n",
      "remote: Counting objects: 100% (2/2), done.\u001b[K\n",
      "remote: Compressing objects: 100% (2/2), done.\u001b[K\n",
      "remote: Total 9733 (delta 0), reused 1 (delta 0), pack-reused 9731\u001b[K\n",
      "Receiving objects: 100% (9733/9733), 11.47 MiB | 20.46 MiB/s, done.\n",
      "Resolving deltas: 100% (6769/6769), done.\n",
      "Note: checking out 'v0.3.0'.\n",
      "\n",
      "You are in 'detached HEAD' state. You can look around, make experimental\n",
      "changes and commit them, and you can discard any commits you make in this\n",
      "state without impacting any branches by performing another checkout.\n",
      "\n",
      "If you want to create a new branch to retain commits you create, you may\n",
      "do so (now or later) by using -b with the checkout command again. Example:\n",
      "\n",
      "  git checkout -b <new-branch-name>\n",
      "\n",
      "HEAD is now at be37608 version check against PyTorch's CUDA version\n"
     ]
    },
    {
     "data": {
      "text/plain": []
     },
     "execution_count": 12,
     "metadata": {
      "tags": []
     },
     "output_type": "execute_result"
    }
   ],
   "source": [
    "%%shell\n",
    "\n",
    "# Download TorchVision repo to use some files from\n",
    "# references/detection\n",
    "git clone https://github.com/pytorch/vision.git\n",
    "cd vision\n",
    "git checkout v0.3.0\n",
    "\n",
    "cp references/detection/utils.py ../\n",
    "cp references/detection/transforms.py ../\n",
    "cp references/detection/coco_eval.py ../\n",
    "#cp references/detection/engine.py ../\n",
    "#cp references/detection/coco_utils.py ../"
   ]
  },
  {
   "cell_type": "code",
   "execution_count": 13,
   "metadata": {
    "colab": {
     "base_uri": "https://localhost:8080/",
     "height": 34
    },
    "colab_type": "code",
    "executionInfo": {
     "elapsed": 1435,
     "status": "ok",
     "timestamp": 1599077899130,
     "user": {
      "displayName": "Hengjia Li",
      "photoUrl": "",
      "userId": "02854047283997062253"
     },
     "user_tz": -480
    },
    "id": "TcvHy1n1au-P",
    "outputId": "9ffab42d-9cf8-492c-d979-071198aebb3d"
   },
   "outputs": [
    {
     "name": "stdout",
     "output_type": "stream",
     "text": [
      "preparing RCNN dataset\n"
     ]
    }
   ],
   "source": [
    "from engine import train_one_epoch, evaluate\n",
    "import utils\n",
    "# train on the GPU or on the CPU, if a GPU is not available\n",
    "device = torch.device('cuda') if torch.cuda.is_available() else torch.device('cpu')\n",
    "\n",
    "# our dataset has two classes only - background and person\n",
    "num_classes = 13\n",
    "\n",
    "# define training and validation data loaders\n",
    "print('preparing RCNN dataset')\n",
    "dataset  = [[torch.as_tensor(data[0].transpose(2,0,1), dtype=torch.float32),data[3]] for data in train_datasets]\n",
    "dataset_test = [[torch.as_tensor(data[0].transpose(2,0,1), dtype=torch.float32),data[3]] for data in test_datasets]\n",
    "\n",
    "data_loader = torch.utils.data.DataLoader(\n",
    "    dataset, batch_size=5, shuffle=True, num_workers=4,\n",
    "    collate_fn=utils.collate_fn)\n",
    "\n",
    "data_loader_test = torch.utils.data.DataLoader(\n",
    "    dataset_test, batch_size=2, shuffle=False, num_workers=4,\n",
    "    collate_fn=utils.collate_fn)\n",
    "\n"
   ]
  },
  {
   "cell_type": "code",
   "execution_count": 10,
   "metadata": {
    "colab": {
     "base_uri": "https://localhost:8080/",
     "height": 1000
    },
    "colab_type": "code",
    "executionInfo": {
     "elapsed": 1600849,
     "status": "ok",
     "timestamp": 1599070908149,
     "user": {
      "displayName": "Hengjia Li",
      "photoUrl": "",
      "userId": "02854047283997062253"
     },
     "user_tz": -480
    },
    "id": "1Yg92Dm9gp7E",
    "outputId": "7abd0c81-bfb4-43ac-c052-1c1ee3e69d2d"
   },
   "outputs": [
    {
     "name": "stdout",
     "output_type": "stream",
     "text": [
      "start training\n",
      "Epoch: [0]  [  0/100]  eta: 0:02:07  lr: 0.000555  loss: 3.8881 (3.8881)  loss_classifier: 3.0012 (3.0012)  loss_box_reg: 0.8283 (0.8283)  loss_objectness: 0.0494 (0.0494)  loss_rpn_box_reg: 0.0091 (0.0091)  time: 1.2724  data: 0.1673  max mem: 3684\n",
      "Epoch: [0]  [ 20/100]  eta: 0:01:14  lr: 0.010645  loss: 1.7152 (2.0619)  loss_classifier: 0.7526 (1.1597)  loss_box_reg: 0.9378 (0.8908)  loss_objectness: 0.0035 (0.0084)  loss_rpn_box_reg: 0.0022 (0.0030)  time: 0.9120  data: 0.0130  max mem: 3951\n",
      "Epoch: [0]  [ 40/100]  eta: 0:00:55  lr: 0.020736  loss: 0.8954 (1.4923)  loss_classifier: 0.5501 (0.8553)  loss_box_reg: 0.3411 (0.6290)  loss_objectness: 0.0002 (0.0048)  loss_rpn_box_reg: 0.0021 (0.0033)  time: 0.9158  data: 0.0141  max mem: 3951\n",
      "Epoch: [0]  [ 60/100]  eta: 0:00:36  lr: 0.030827  loss: 0.4639 (1.1547)  loss_classifier: 0.1826 (0.6359)  loss_box_reg: 0.2721 (0.5128)  loss_objectness: 0.0007 (0.0035)  loss_rpn_box_reg: 0.0009 (0.0025)  time: 0.9203  data: 0.0125  max mem: 3951\n",
      "Epoch: [0]  [ 80/100]  eta: 0:00:18  lr: 0.040918  loss: 0.2662 (0.9365)  loss_classifier: 0.0707 (0.4958)  loss_box_reg: 0.1947 (0.4361)  loss_objectness: 0.0005 (0.0028)  loss_rpn_box_reg: 0.0003 (0.0020)  time: 0.9256  data: 0.0126  max mem: 3951\n",
      "Epoch: [0]  [ 99/100]  eta: 0:00:00  lr: 0.050000  loss: 0.2260 (0.8016)  loss_classifier: 0.0525 (0.4120)  loss_box_reg: 0.1726 (0.3856)  loss_objectness: 0.0005 (0.0023)  loss_rpn_box_reg: 0.0003 (0.0017)  time: 0.9294  data: 0.0126  max mem: 3951\n",
      "Epoch: [0] Total time: 0:01:32 (0.9252 s / it)\n",
      "creating index...\n",
      "index created!\n",
      "Test:  [  0/100]  eta: 0:00:23  model_time: 0.0901 (0.0901)  evaluator_time: 0.0031 (0.0031)  time: 0.2380  data: 0.1440  max mem: 3951\n",
      "Test:  [ 99/100]  eta: 0:00:00  model_time: 0.0837 (0.0842)  evaluator_time: 0.0028 (0.0027)  time: 0.0904  data: 0.0033  max mem: 3951\n",
      "Test: Total time: 0:00:09 (0.0925 s / it)\n",
      "Averaged stats: model_time: 0.0837 (0.0842)  evaluator_time: 0.0028 (0.0027)\n",
      "Accumulating evaluation results...\n",
      "DONE (t=0.08s).\n",
      "IoU metric: bbox\n",
      " Average Precision  (AP) @[ IoU=0.50:0.95 | area=   all | maxDets=100 ] = 0.823\n",
      " Average Precision  (AP) @[ IoU=0.50      | area=   all | maxDets=100 ] = 1.000\n",
      " Average Precision  (AP) @[ IoU=0.75      | area=   all | maxDets=100 ] = 1.000\n",
      " Average Precision  (AP) @[ IoU=0.50:0.95 | area= small | maxDets=100 ] = 0.823\n",
      " Average Precision  (AP) @[ IoU=0.50:0.95 | area=medium | maxDets=100 ] = -1.000\n",
      " Average Precision  (AP) @[ IoU=0.50:0.95 | area= large | maxDets=100 ] = -1.000\n",
      " Average Recall     (AR) @[ IoU=0.50:0.95 | area=   all | maxDets=  1 ] = 0.845\n",
      " Average Recall     (AR) @[ IoU=0.50:0.95 | area=   all | maxDets= 10 ] = 0.845\n",
      " Average Recall     (AR) @[ IoU=0.50:0.95 | area=   all | maxDets=100 ] = 0.845\n",
      " Average Recall     (AR) @[ IoU=0.50:0.95 | area= small | maxDets=100 ] = 0.845\n",
      " Average Recall     (AR) @[ IoU=0.50:0.95 | area=medium | maxDets=100 ] = -1.000\n",
      " Average Recall     (AR) @[ IoU=0.50:0.95 | area= large | maxDets=100 ] = -1.000\n",
      "Epoch: [1]  [  0/100]  eta: 0:01:51  lr: 0.050000  loss: 0.1945 (0.1945)  loss_classifier: 0.0464 (0.0464)  loss_box_reg: 0.1474 (0.1474)  loss_objectness: 0.0005 (0.0005)  loss_rpn_box_reg: 0.0002 (0.0002)  time: 1.1104  data: 0.1744  max mem: 3951\n",
      "Epoch: [1]  [ 20/100]  eta: 0:01:15  lr: 0.050000  loss: 0.1699 (0.1696)  loss_classifier: 0.0390 (0.0409)  loss_box_reg: 0.1236 (0.1279)  loss_objectness: 0.0005 (0.0005)  loss_rpn_box_reg: 0.0004 (0.0004)  time: 0.9381  data: 0.0127  max mem: 3951\n",
      "Epoch: [1]  [ 40/100]  eta: 0:00:56  lr: 0.050000  loss: 0.1152 (0.1446)  loss_classifier: 0.0308 (0.0365)  loss_box_reg: 0.0840 (0.1074)  loss_objectness: 0.0004 (0.0005)  loss_rpn_box_reg: 0.0002 (0.0003)  time: 0.9438  data: 0.0132  max mem: 3951\n",
      "Epoch: [1]  [ 60/100]  eta: 0:00:37  lr: 0.050000  loss: 0.0997 (0.1299)  loss_classifier: 0.0273 (0.0336)  loss_box_reg: 0.0704 (0.0956)  loss_objectness: 0.0002 (0.0004)  loss_rpn_box_reg: 0.0001 (0.0002)  time: 0.9440  data: 0.0130  max mem: 3951\n",
      "Epoch: [1]  [ 80/100]  eta: 0:00:18  lr: 0.050000  loss: 0.0800 (0.1181)  loss_classifier: 0.0244 (0.0313)  loss_box_reg: 0.0568 (0.0863)  loss_objectness: 0.0002 (0.0004)  loss_rpn_box_reg: 0.0000 (0.0002)  time: 0.9498  data: 0.0130  max mem: 3951\n",
      "Epoch: [1]  [ 99/100]  eta: 0:00:00  lr: 0.050000  loss: 0.0718 (0.1094)  loss_classifier: 0.0217 (0.0296)  loss_box_reg: 0.0499 (0.0792)  loss_objectness: 0.0002 (0.0003)  loss_rpn_box_reg: 0.0000 (0.0002)  time: 0.9520  data: 0.0128  max mem: 3951\n",
      "Epoch: [1] Total time: 0:01:34 (0.9483 s / it)\n",
      "creating index...\n",
      "index created!\n",
      "Test:  [  0/100]  eta: 0:00:24  model_time: 0.0889 (0.0889)  evaluator_time: 0.0038 (0.0038)  time: 0.2482  data: 0.1540  max mem: 3951\n",
      "Test:  [ 99/100]  eta: 0:00:00  model_time: 0.0854 (0.0857)  evaluator_time: 0.0024 (0.0025)  time: 0.0915  data: 0.0035  max mem: 3951\n",
      "Test: Total time: 0:00:09 (0.0939 s / it)\n",
      "Averaged stats: model_time: 0.0854 (0.0857)  evaluator_time: 0.0024 (0.0025)\n",
      "Accumulating evaluation results...\n",
      "DONE (t=0.07s).\n",
      "IoU metric: bbox\n",
      " Average Precision  (AP) @[ IoU=0.50:0.95 | area=   all | maxDets=100 ] = 0.938\n",
      " Average Precision  (AP) @[ IoU=0.50      | area=   all | maxDets=100 ] = 1.000\n",
      " Average Precision  (AP) @[ IoU=0.75      | area=   all | maxDets=100 ] = 1.000\n",
      " Average Precision  (AP) @[ IoU=0.50:0.95 | area= small | maxDets=100 ] = 0.938\n",
      " Average Precision  (AP) @[ IoU=0.50:0.95 | area=medium | maxDets=100 ] = -1.000\n",
      " Average Precision  (AP) @[ IoU=0.50:0.95 | area= large | maxDets=100 ] = -1.000\n",
      " Average Recall     (AR) @[ IoU=0.50:0.95 | area=   all | maxDets=  1 ] = 0.952\n",
      " Average Recall     (AR) @[ IoU=0.50:0.95 | area=   all | maxDets= 10 ] = 0.952\n",
      " Average Recall     (AR) @[ IoU=0.50:0.95 | area=   all | maxDets=100 ] = 0.952\n",
      " Average Recall     (AR) @[ IoU=0.50:0.95 | area= small | maxDets=100 ] = 0.952\n",
      " Average Recall     (AR) @[ IoU=0.50:0.95 | area=medium | maxDets=100 ] = -1.000\n",
      " Average Recall     (AR) @[ IoU=0.50:0.95 | area= large | maxDets=100 ] = -1.000\n",
      "Epoch: [2]  [  0/100]  eta: 0:01:55  lr: 0.050000  loss: 0.0643 (0.0643)  loss_classifier: 0.0184 (0.0184)  loss_box_reg: 0.0457 (0.0457)  loss_objectness: 0.0002 (0.0002)  loss_rpn_box_reg: 0.0000 (0.0000)  time: 1.1526  data: 0.2029  max mem: 3951\n",
      "Epoch: [2]  [ 20/100]  eta: 0:01:16  lr: 0.050000  loss: 0.0685 (0.0690)  loss_classifier: 0.0220 (0.0222)  loss_box_reg: 0.0459 (0.0467)  loss_objectness: 0.0002 (0.0002)  loss_rpn_box_reg: 0.0000 (0.0000)  time: 0.9512  data: 0.0113  max mem: 3951\n",
      "Epoch: [2]  [ 40/100]  eta: 0:00:57  lr: 0.050000  loss: 0.0614 (0.0661)  loss_classifier: 0.0200 (0.0216)  loss_box_reg: 0.0401 (0.0443)  loss_objectness: 0.0002 (0.0002)  loss_rpn_box_reg: 0.0000 (0.0001)  time: 0.9558  data: 0.0127  max mem: 3951\n",
      "Epoch: [2]  [ 60/100]  eta: 0:00:38  lr: 0.050000  loss: 0.0557 (0.0626)  loss_classifier: 0.0208 (0.0213)  loss_box_reg: 0.0326 (0.0411)  loss_objectness: 0.0002 (0.0002)  loss_rpn_box_reg: 0.0000 (0.0000)  time: 0.9544  data: 0.0125  max mem: 3951\n",
      "Epoch: [2]  [ 80/100]  eta: 0:00:19  lr: 0.050000  loss: 0.0540 (0.0617)  loss_classifier: 0.0189 (0.0212)  loss_box_reg: 0.0348 (0.0403)  loss_objectness: 0.0002 (0.0002)  loss_rpn_box_reg: 0.0000 (0.0001)  time: 0.9575  data: 0.0127  max mem: 3951\n",
      "Epoch: [2]  [ 99/100]  eta: 0:00:00  lr: 0.050000  loss: 0.0607 (0.0612)  loss_classifier: 0.0225 (0.0215)  loss_box_reg: 0.0360 (0.0395)  loss_objectness: 0.0002 (0.0002)  loss_rpn_box_reg: 0.0001 (0.0001)  time: 0.9567  data: 0.0125  max mem: 3951\n",
      "Epoch: [2] Total time: 0:01:35 (0.9583 s / it)\n",
      "creating index...\n",
      "index created!\n",
      "Test:  [  0/100]  eta: 0:00:23  model_time: 0.0881 (0.0881)  evaluator_time: 0.0034 (0.0034)  time: 0.2374  data: 0.1452  max mem: 3951\n",
      "Test:  [ 99/100]  eta: 0:00:00  model_time: 0.0862 (0.0862)  evaluator_time: 0.0022 (0.0024)  time: 0.0924  data: 0.0035  max mem: 3951\n",
      "Test: Total time: 0:00:09 (0.0944 s / it)\n",
      "Averaged stats: model_time: 0.0862 (0.0862)  evaluator_time: 0.0022 (0.0024)\n",
      "Accumulating evaluation results...\n",
      "DONE (t=0.07s).\n",
      "IoU metric: bbox\n",
      " Average Precision  (AP) @[ IoU=0.50:0.95 | area=   all | maxDets=100 ] = 0.943\n",
      " Average Precision  (AP) @[ IoU=0.50      | area=   all | maxDets=100 ] = 1.000\n",
      " Average Precision  (AP) @[ IoU=0.75      | area=   all | maxDets=100 ] = 1.000\n",
      " Average Precision  (AP) @[ IoU=0.50:0.95 | area= small | maxDets=100 ] = 0.943\n",
      " Average Precision  (AP) @[ IoU=0.50:0.95 | area=medium | maxDets=100 ] = -1.000\n",
      " Average Precision  (AP) @[ IoU=0.50:0.95 | area= large | maxDets=100 ] = -1.000\n",
      " Average Recall     (AR) @[ IoU=0.50:0.95 | area=   all | maxDets=  1 ] = 0.956\n",
      " Average Recall     (AR) @[ IoU=0.50:0.95 | area=   all | maxDets= 10 ] = 0.956\n",
      " Average Recall     (AR) @[ IoU=0.50:0.95 | area=   all | maxDets=100 ] = 0.956\n",
      " Average Recall     (AR) @[ IoU=0.50:0.95 | area= small | maxDets=100 ] = 0.956\n",
      " Average Recall     (AR) @[ IoU=0.50:0.95 | area=medium | maxDets=100 ] = -1.000\n",
      " Average Recall     (AR) @[ IoU=0.50:0.95 | area= large | maxDets=100 ] = -1.000\n",
      "Epoch: [3]  [  0/100]  eta: 0:01:56  lr: 0.050000  loss: 0.0629 (0.0629)  loss_classifier: 0.0264 (0.0264)  loss_box_reg: 0.0363 (0.0363)  loss_objectness: 0.0001 (0.0001)  loss_rpn_box_reg: 0.0000 (0.0000)  time: 1.1653  data: 0.2131  max mem: 3951\n",
      "Epoch: [3]  [ 20/100]  eta: 0:01:17  lr: 0.050000  loss: 0.0581 (0.0603)  loss_classifier: 0.0215 (0.0220)  loss_box_reg: 0.0356 (0.0382)  loss_objectness: 0.0002 (0.0002)  loss_rpn_box_reg: 0.0000 (0.0000)  time: 0.9575  data: 0.0108  max mem: 3951\n",
      "Epoch: [3]  [ 40/100]  eta: 0:00:57  lr: 0.050000  loss: 0.0575 (0.0586)  loss_classifier: 0.0207 (0.0217)  loss_box_reg: 0.0359 (0.0367)  loss_objectness: 0.0002 (0.0002)  loss_rpn_box_reg: 0.0001 (0.0001)  time: 0.9601  data: 0.0145  max mem: 3951\n",
      "Epoch: [3]  [ 60/100]  eta: 0:00:38  lr: 0.050000  loss: 0.0438 (0.0545)  loss_classifier: 0.0164 (0.0207)  loss_box_reg: 0.0260 (0.0336)  loss_objectness: 0.0002 (0.0002)  loss_rpn_box_reg: 0.0000 (0.0001)  time: 0.9600  data: 0.0127  max mem: 3951\n",
      "Epoch: [3]  [ 80/100]  eta: 0:00:19  lr: 0.050000  loss: 0.0435 (0.0516)  loss_classifier: 0.0155 (0.0195)  loss_box_reg: 0.0270 (0.0319)  loss_objectness: 0.0001 (0.0002)  loss_rpn_box_reg: 0.0000 (0.0001)  time: 0.9597  data: 0.0126  max mem: 3951\n",
      "Epoch: [3]  [ 99/100]  eta: 0:00:00  lr: 0.050000  loss: 0.0416 (0.0497)  loss_classifier: 0.0151 (0.0187)  loss_box_reg: 0.0255 (0.0308)  loss_objectness: 0.0001 (0.0002)  loss_rpn_box_reg: 0.0000 (0.0001)  time: 0.9617  data: 0.0126  max mem: 3951\n",
      "Epoch: [3] Total time: 0:01:36 (0.9629 s / it)\n",
      "creating index...\n",
      "index created!\n",
      "Test:  [  0/100]  eta: 0:00:24  model_time: 0.0865 (0.0865)  evaluator_time: 0.0034 (0.0034)  time: 0.2412  data: 0.1508  max mem: 3951\n",
      "Test:  [ 99/100]  eta: 0:00:00  model_time: 0.0857 (0.0862)  evaluator_time: 0.0022 (0.0024)  time: 0.0919  data: 0.0034  max mem: 3951\n",
      "Test: Total time: 0:00:09 (0.0942 s / it)\n",
      "Averaged stats: model_time: 0.0857 (0.0862)  evaluator_time: 0.0022 (0.0024)\n",
      "Accumulating evaluation results...\n",
      "DONE (t=0.07s).\n",
      "IoU metric: bbox\n",
      " Average Precision  (AP) @[ IoU=0.50:0.95 | area=   all | maxDets=100 ] = 0.984\n",
      " Average Precision  (AP) @[ IoU=0.50      | area=   all | maxDets=100 ] = 1.000\n",
      " Average Precision  (AP) @[ IoU=0.75      | area=   all | maxDets=100 ] = 1.000\n",
      " Average Precision  (AP) @[ IoU=0.50:0.95 | area= small | maxDets=100 ] = 0.984\n",
      " Average Precision  (AP) @[ IoU=0.50:0.95 | area=medium | maxDets=100 ] = -1.000\n",
      " Average Precision  (AP) @[ IoU=0.50:0.95 | area= large | maxDets=100 ] = -1.000\n",
      " Average Recall     (AR) @[ IoU=0.50:0.95 | area=   all | maxDets=  1 ] = 0.990\n",
      " Average Recall     (AR) @[ IoU=0.50:0.95 | area=   all | maxDets= 10 ] = 0.990\n",
      " Average Recall     (AR) @[ IoU=0.50:0.95 | area=   all | maxDets=100 ] = 0.990\n",
      " Average Recall     (AR) @[ IoU=0.50:0.95 | area= small | maxDets=100 ] = 0.990\n",
      " Average Recall     (AR) @[ IoU=0.50:0.95 | area=medium | maxDets=100 ] = -1.000\n",
      " Average Recall     (AR) @[ IoU=0.50:0.95 | area= large | maxDets=100 ] = -1.000\n",
      "Epoch: [4]  [  0/100]  eta: 0:01:56  lr: 0.050000  loss: 0.0296 (0.0296)  loss_classifier: 0.0146 (0.0146)  loss_box_reg: 0.0149 (0.0149)  loss_objectness: 0.0001 (0.0001)  loss_rpn_box_reg: 0.0001 (0.0001)  time: 1.1685  data: 0.2127  max mem: 3951\n",
      "Epoch: [4]  [ 20/100]  eta: 0:01:17  lr: 0.050000  loss: 0.0314 (0.0320)  loss_classifier: 0.0124 (0.0132)  loss_box_reg: 0.0186 (0.0186)  loss_objectness: 0.0001 (0.0001)  loss_rpn_box_reg: 0.0000 (0.0000)  time: 0.9614  data: 0.0113  max mem: 3951\n",
      "Epoch: [4]  [ 40/100]  eta: 0:00:57  lr: 0.050000  loss: 0.0304 (0.0314)  loss_classifier: 0.0126 (0.0128)  loss_box_reg: 0.0178 (0.0185)  loss_objectness: 0.0001 (0.0001)  loss_rpn_box_reg: 0.0000 (0.0000)  time: 0.9593  data: 0.0124  max mem: 3951\n",
      "Epoch: [4]  [ 60/100]  eta: 0:00:38  lr: 0.050000  loss: 0.0299 (0.0310)  loss_classifier: 0.0135 (0.0131)  loss_box_reg: 0.0164 (0.0178)  loss_objectness: 0.0001 (0.0001)  loss_rpn_box_reg: 0.0000 (0.0000)  time: 0.9620  data: 0.0125  max mem: 3951\n",
      "Epoch: [4]  [ 80/100]  eta: 0:00:19  lr: 0.050000  loss: 0.0251 (0.0296)  loss_classifier: 0.0124 (0.0128)  loss_box_reg: 0.0129 (0.0166)  loss_objectness: 0.0001 (0.0001)  loss_rpn_box_reg: 0.0000 (0.0000)  time: 0.9636  data: 0.0126  max mem: 3951\n",
      "Epoch: [4]  [ 99/100]  eta: 0:00:00  lr: 0.050000  loss: 0.0249 (0.0288)  loss_classifier: 0.0112 (0.0125)  loss_box_reg: 0.0137 (0.0161)  loss_objectness: 0.0001 (0.0001)  loss_rpn_box_reg: 0.0000 (0.0000)  time: 0.9625  data: 0.0125  max mem: 3951\n",
      "Epoch: [4] Total time: 0:01:36 (0.9650 s / it)\n",
      "creating index...\n",
      "index created!\n",
      "Test:  [  0/100]  eta: 0:00:23  model_time: 0.0879 (0.0879)  evaluator_time: 0.0034 (0.0034)  time: 0.2353  data: 0.1433  max mem: 3951\n",
      "Test:  [ 99/100]  eta: 0:00:00  model_time: 0.0862 (0.0866)  evaluator_time: 0.0024 (0.0025)  time: 0.0923  data: 0.0035  max mem: 3951\n",
      "Test: Total time: 0:00:09 (0.0948 s / it)\n",
      "Averaged stats: model_time: 0.0862 (0.0866)  evaluator_time: 0.0024 (0.0025)\n",
      "Accumulating evaluation results...\n",
      "DONE (t=0.08s).\n",
      "IoU metric: bbox\n",
      " Average Precision  (AP) @[ IoU=0.50:0.95 | area=   all | maxDets=100 ] = 0.987\n",
      " Average Precision  (AP) @[ IoU=0.50      | area=   all | maxDets=100 ] = 1.000\n",
      " Average Precision  (AP) @[ IoU=0.75      | area=   all | maxDets=100 ] = 1.000\n",
      " Average Precision  (AP) @[ IoU=0.50:0.95 | area= small | maxDets=100 ] = 0.987\n",
      " Average Precision  (AP) @[ IoU=0.50:0.95 | area=medium | maxDets=100 ] = -1.000\n",
      " Average Precision  (AP) @[ IoU=0.50:0.95 | area= large | maxDets=100 ] = -1.000\n",
      " Average Recall     (AR) @[ IoU=0.50:0.95 | area=   all | maxDets=  1 ] = 0.990\n",
      " Average Recall     (AR) @[ IoU=0.50:0.95 | area=   all | maxDets= 10 ] = 0.990\n",
      " Average Recall     (AR) @[ IoU=0.50:0.95 | area=   all | maxDets=100 ] = 0.990\n",
      " Average Recall     (AR) @[ IoU=0.50:0.95 | area= small | maxDets=100 ] = 0.990\n",
      " Average Recall     (AR) @[ IoU=0.50:0.95 | area=medium | maxDets=100 ] = -1.000\n",
      " Average Recall     (AR) @[ IoU=0.50:0.95 | area= large | maxDets=100 ] = -1.000\n",
      "Epoch: [5]  [  0/100]  eta: 0:01:53  lr: 0.005000  loss: 0.0253 (0.0253)  loss_classifier: 0.0104 (0.0104)  loss_box_reg: 0.0147 (0.0147)  loss_objectness: 0.0001 (0.0001)  loss_rpn_box_reg: 0.0001 (0.0001)  time: 1.1349  data: 0.1793  max mem: 3951\n",
      "Epoch: [5]  [ 20/100]  eta: 0:01:17  lr: 0.005000  loss: 0.0143 (0.0163)  loss_classifier: 0.0086 (0.0090)  loss_box_reg: 0.0063 (0.0072)  loss_objectness: 0.0001 (0.0001)  loss_rpn_box_reg: 0.0000 (0.0000)  time: 0.9643  data: 0.0127  max mem: 3951\n",
      "Epoch: [5]  [ 40/100]  eta: 0:00:58  lr: 0.005000  loss: 0.0110 (0.0139)  loss_classifier: 0.0078 (0.0083)  loss_box_reg: 0.0035 (0.0055)  loss_objectness: 0.0001 (0.0001)  loss_rpn_box_reg: 0.0000 (0.0000)  time: 0.9626  data: 0.0127  max mem: 3951\n",
      "Epoch: [5]  [ 60/100]  eta: 0:00:38  lr: 0.005000  loss: 0.0091 (0.0125)  loss_classifier: 0.0062 (0.0077)  loss_box_reg: 0.0029 (0.0047)  loss_objectness: 0.0001 (0.0001)  loss_rpn_box_reg: 0.0000 (0.0000)  time: 0.9642  data: 0.0128  max mem: 3951\n",
      "Epoch: [5]  [ 80/100]  eta: 0:00:19  lr: 0.005000  loss: 0.0090 (0.0118)  loss_classifier: 0.0060 (0.0074)  loss_box_reg: 0.0026 (0.0044)  loss_objectness: 0.0001 (0.0001)  loss_rpn_box_reg: 0.0000 (0.0000)  time: 0.9637  data: 0.0127  max mem: 3951\n",
      "Epoch: [5]  [ 99/100]  eta: 0:00:00  lr: 0.005000  loss: 0.0094 (0.0115)  loss_classifier: 0.0066 (0.0073)  loss_box_reg: 0.0026 (0.0041)  loss_objectness: 0.0001 (0.0001)  loss_rpn_box_reg: 0.0000 (0.0000)  time: 0.9641  data: 0.0129  max mem: 3951\n",
      "Epoch: [5] Total time: 0:01:36 (0.9666 s / it)\n",
      "creating index...\n",
      "index created!\n",
      "Test:  [  0/100]  eta: 0:00:24  model_time: 0.0881 (0.0881)  evaluator_time: 0.0035 (0.0035)  time: 0.2439  data: 0.1517  max mem: 3951\n",
      "Test:  [ 99/100]  eta: 0:00:00  model_time: 0.0870 (0.0864)  evaluator_time: 0.0023 (0.0024)  time: 0.0931  data: 0.0036  max mem: 3951\n",
      "Test: Total time: 0:00:09 (0.0944 s / it)\n",
      "Averaged stats: model_time: 0.0870 (0.0864)  evaluator_time: 0.0023 (0.0024)\n",
      "Accumulating evaluation results...\n",
      "DONE (t=0.07s).\n",
      "IoU metric: bbox\n",
      " Average Precision  (AP) @[ IoU=0.50:0.95 | area=   all | maxDets=100 ] = 0.998\n",
      " Average Precision  (AP) @[ IoU=0.50      | area=   all | maxDets=100 ] = 1.000\n",
      " Average Precision  (AP) @[ IoU=0.75      | area=   all | maxDets=100 ] = 1.000\n",
      " Average Precision  (AP) @[ IoU=0.50:0.95 | area= small | maxDets=100 ] = 0.998\n",
      " Average Precision  (AP) @[ IoU=0.50:0.95 | area=medium | maxDets=100 ] = -1.000\n",
      " Average Precision  (AP) @[ IoU=0.50:0.95 | area= large | maxDets=100 ] = -1.000\n",
      " Average Recall     (AR) @[ IoU=0.50:0.95 | area=   all | maxDets=  1 ] = 0.999\n",
      " Average Recall     (AR) @[ IoU=0.50:0.95 | area=   all | maxDets= 10 ] = 0.999\n",
      " Average Recall     (AR) @[ IoU=0.50:0.95 | area=   all | maxDets=100 ] = 0.999\n",
      " Average Recall     (AR) @[ IoU=0.50:0.95 | area= small | maxDets=100 ] = 0.999\n",
      " Average Recall     (AR) @[ IoU=0.50:0.95 | area=medium | maxDets=100 ] = -1.000\n",
      " Average Recall     (AR) @[ IoU=0.50:0.95 | area= large | maxDets=100 ] = -1.000\n",
      "Epoch: [6]  [  0/100]  eta: 0:01:53  lr: 0.005000  loss: 0.0101 (0.0101)  loss_classifier: 0.0064 (0.0064)  loss_box_reg: 0.0036 (0.0036)  loss_objectness: 0.0001 (0.0001)  loss_rpn_box_reg: 0.0000 (0.0000)  time: 1.1363  data: 0.1805  max mem: 3951\n",
      "Epoch: [6]  [ 20/100]  eta: 0:01:17  lr: 0.005000  loss: 0.0113 (0.0111)  loss_classifier: 0.0081 (0.0080)  loss_box_reg: 0.0027 (0.0030)  loss_objectness: 0.0001 (0.0001)  loss_rpn_box_reg: 0.0000 (0.0000)  time: 0.9627  data: 0.0140  max mem: 3951\n",
      "Epoch: [6]  [ 40/100]  eta: 0:00:58  lr: 0.005000  loss: 0.0093 (0.0103)  loss_classifier: 0.0063 (0.0073)  loss_box_reg: 0.0025 (0.0029)  loss_objectness: 0.0001 (0.0001)  loss_rpn_box_reg: 0.0000 (0.0000)  time: 0.9639  data: 0.0129  max mem: 3951\n",
      "Epoch: [6]  [ 60/100]  eta: 0:00:38  lr: 0.005000  loss: 0.0096 (0.0101)  loss_classifier: 0.0066 (0.0071)  loss_box_reg: 0.0027 (0.0029)  loss_objectness: 0.0001 (0.0001)  loss_rpn_box_reg: 0.0000 (0.0000)  time: 0.9632  data: 0.0126  max mem: 3951\n",
      "Epoch: [6]  [ 80/100]  eta: 0:00:19  lr: 0.005000  loss: 0.0094 (0.0101)  loss_classifier: 0.0067 (0.0071)  loss_box_reg: 0.0026 (0.0029)  loss_objectness: 0.0001 (0.0001)  loss_rpn_box_reg: 0.0000 (0.0000)  time: 0.9642  data: 0.0127  max mem: 3951\n",
      "Epoch: [6]  [ 99/100]  eta: 0:00:00  lr: 0.005000  loss: 0.0084 (0.0099)  loss_classifier: 0.0056 (0.0070)  loss_box_reg: 0.0023 (0.0029)  loss_objectness: 0.0001 (0.0001)  loss_rpn_box_reg: 0.0000 (0.0000)  time: 0.9621  data: 0.0128  max mem: 3951\n",
      "Epoch: [6] Total time: 0:01:36 (0.9661 s / it)\n",
      "creating index...\n",
      "index created!\n",
      "Test:  [  0/100]  eta: 0:00:29  model_time: 0.0905 (0.0905)  evaluator_time: 0.0038 (0.0038)  time: 0.2983  data: 0.2030  max mem: 3951\n",
      "Test:  [ 99/100]  eta: 0:00:00  model_time: 0.0857 (0.0863)  evaluator_time: 0.0022 (0.0024)  time: 0.0914  data: 0.0032  max mem: 3951\n",
      "Test: Total time: 0:00:09 (0.0948 s / it)\n",
      "Averaged stats: model_time: 0.0857 (0.0863)  evaluator_time: 0.0022 (0.0024)\n",
      "Accumulating evaluation results...\n",
      "DONE (t=0.07s).\n",
      "IoU metric: bbox\n",
      " Average Precision  (AP) @[ IoU=0.50:0.95 | area=   all | maxDets=100 ] = 0.998\n",
      " Average Precision  (AP) @[ IoU=0.50      | area=   all | maxDets=100 ] = 1.000\n",
      " Average Precision  (AP) @[ IoU=0.75      | area=   all | maxDets=100 ] = 1.000\n",
      " Average Precision  (AP) @[ IoU=0.50:0.95 | area= small | maxDets=100 ] = 0.998\n",
      " Average Precision  (AP) @[ IoU=0.50:0.95 | area=medium | maxDets=100 ] = -1.000\n",
      " Average Precision  (AP) @[ IoU=0.50:0.95 | area= large | maxDets=100 ] = -1.000\n",
      " Average Recall     (AR) @[ IoU=0.50:0.95 | area=   all | maxDets=  1 ] = 0.999\n",
      " Average Recall     (AR) @[ IoU=0.50:0.95 | area=   all | maxDets= 10 ] = 0.999\n",
      " Average Recall     (AR) @[ IoU=0.50:0.95 | area=   all | maxDets=100 ] = 0.999\n",
      " Average Recall     (AR) @[ IoU=0.50:0.95 | area= small | maxDets=100 ] = 0.999\n",
      " Average Recall     (AR) @[ IoU=0.50:0.95 | area=medium | maxDets=100 ] = -1.000\n",
      " Average Recall     (AR) @[ IoU=0.50:0.95 | area= large | maxDets=100 ] = -1.000\n",
      "Epoch: [7]  [  0/100]  eta: 0:01:52  lr: 0.005000  loss: 0.0095 (0.0095)  loss_classifier: 0.0065 (0.0065)  loss_box_reg: 0.0029 (0.0029)  loss_objectness: 0.0001 (0.0001)  loss_rpn_box_reg: 0.0000 (0.0000)  time: 1.1300  data: 0.1783  max mem: 3951\n",
      "Epoch: [7]  [ 20/100]  eta: 0:01:17  lr: 0.005000  loss: 0.0098 (0.0097)  loss_classifier: 0.0067 (0.0067)  loss_box_reg: 0.0025 (0.0029)  loss_objectness: 0.0001 (0.0001)  loss_rpn_box_reg: 0.0000 (0.0000)  time: 0.9619  data: 0.0128  max mem: 3951\n",
      "Epoch: [7]  [ 40/100]  eta: 0:00:58  lr: 0.005000  loss: 0.0093 (0.0095)  loss_classifier: 0.0061 (0.0065)  loss_box_reg: 0.0030 (0.0030)  loss_objectness: 0.0001 (0.0001)  loss_rpn_box_reg: 0.0000 (0.0000)  time: 0.9646  data: 0.0129  max mem: 3951\n",
      "Epoch: [7]  [ 60/100]  eta: 0:00:38  lr: 0.005000  loss: 0.0088 (0.0094)  loss_classifier: 0.0062 (0.0065)  loss_box_reg: 0.0027 (0.0029)  loss_objectness: 0.0001 (0.0001)  loss_rpn_box_reg: 0.0000 (0.0000)  time: 0.9621  data: 0.0130  max mem: 3951\n",
      "Epoch: [7]  [ 80/100]  eta: 0:00:19  lr: 0.005000  loss: 0.0080 (0.0092)  loss_classifier: 0.0053 (0.0063)  loss_box_reg: 0.0022 (0.0028)  loss_objectness: 0.0001 (0.0001)  loss_rpn_box_reg: 0.0000 (0.0000)  time: 0.9616  data: 0.0123  max mem: 3951\n",
      "Epoch: [7]  [ 99/100]  eta: 0:00:00  lr: 0.005000  loss: 0.0089 (0.0092)  loss_classifier: 0.0061 (0.0064)  loss_box_reg: 0.0023 (0.0027)  loss_objectness: 0.0000 (0.0001)  loss_rpn_box_reg: 0.0000 (0.0000)  time: 0.9617  data: 0.0125  max mem: 3951\n",
      "Epoch: [7] Total time: 0:01:36 (0.9652 s / it)\n",
      "creating index...\n",
      "index created!\n",
      "Test:  [  0/100]  eta: 0:00:25  model_time: 0.0915 (0.0915)  evaluator_time: 0.0035 (0.0035)  time: 0.2537  data: 0.1555  max mem: 3951\n",
      "Test:  [ 99/100]  eta: 0:00:00  model_time: 0.0860 (0.0863)  evaluator_time: 0.0023 (0.0024)  time: 0.0920  data: 0.0035  max mem: 3951\n",
      "Test: Total time: 0:00:09 (0.0944 s / it)\n",
      "Averaged stats: model_time: 0.0860 (0.0863)  evaluator_time: 0.0023 (0.0024)\n",
      "Accumulating evaluation results...\n",
      "DONE (t=0.07s).\n",
      "IoU metric: bbox\n",
      " Average Precision  (AP) @[ IoU=0.50:0.95 | area=   all | maxDets=100 ] = 0.999\n",
      " Average Precision  (AP) @[ IoU=0.50      | area=   all | maxDets=100 ] = 1.000\n",
      " Average Precision  (AP) @[ IoU=0.75      | area=   all | maxDets=100 ] = 1.000\n",
      " Average Precision  (AP) @[ IoU=0.50:0.95 | area= small | maxDets=100 ] = 0.999\n",
      " Average Precision  (AP) @[ IoU=0.50:0.95 | area=medium | maxDets=100 ] = -1.000\n",
      " Average Precision  (AP) @[ IoU=0.50:0.95 | area= large | maxDets=100 ] = -1.000\n",
      " Average Recall     (AR) @[ IoU=0.50:0.95 | area=   all | maxDets=  1 ] = 0.999\n",
      " Average Recall     (AR) @[ IoU=0.50:0.95 | area=   all | maxDets= 10 ] = 0.999\n",
      " Average Recall     (AR) @[ IoU=0.50:0.95 | area=   all | maxDets=100 ] = 0.999\n",
      " Average Recall     (AR) @[ IoU=0.50:0.95 | area= small | maxDets=100 ] = 0.999\n",
      " Average Recall     (AR) @[ IoU=0.50:0.95 | area=medium | maxDets=100 ] = -1.000\n",
      " Average Recall     (AR) @[ IoU=0.50:0.95 | area= large | maxDets=100 ] = -1.000\n",
      "Epoch: [8]  [  0/100]  eta: 0:01:53  lr: 0.005000  loss: 0.0106 (0.0106)  loss_classifier: 0.0058 (0.0058)  loss_box_reg: 0.0048 (0.0048)  loss_objectness: 0.0001 (0.0001)  loss_rpn_box_reg: 0.0000 (0.0000)  time: 1.1377  data: 0.1852  max mem: 3951\n",
      "Epoch: [8]  [ 20/100]  eta: 0:01:17  lr: 0.005000  loss: 0.0089 (0.0090)  loss_classifier: 0.0061 (0.0063)  loss_box_reg: 0.0025 (0.0026)  loss_objectness: 0.0000 (0.0001)  loss_rpn_box_reg: 0.0000 (0.0000)  time: 0.9638  data: 0.0127  max mem: 3951\n",
      "Epoch: [8]  [ 40/100]  eta: 0:00:58  lr: 0.005000  loss: 0.0104 (0.0097)  loss_classifier: 0.0071 (0.0069)  loss_box_reg: 0.0027 (0.0027)  loss_objectness: 0.0001 (0.0001)  loss_rpn_box_reg: 0.0000 (0.0000)  time: 0.9629  data: 0.0128  max mem: 3951\n",
      "Epoch: [8]  [ 60/100]  eta: 0:00:38  lr: 0.005000  loss: 0.0083 (0.0093)  loss_classifier: 0.0061 (0.0066)  loss_box_reg: 0.0024 (0.0026)  loss_objectness: 0.0001 (0.0001)  loss_rpn_box_reg: 0.0000 (0.0000)  time: 0.9621  data: 0.0126  max mem: 3951\n",
      "Epoch: [8]  [ 80/100]  eta: 0:00:19  lr: 0.005000  loss: 0.0091 (0.0093)  loss_classifier: 0.0062 (0.0066)  loss_box_reg: 0.0026 (0.0026)  loss_objectness: 0.0001 (0.0001)  loss_rpn_box_reg: 0.0000 (0.0000)  time: 0.9625  data: 0.0125  max mem: 3951\n",
      "Epoch: [8]  [ 99/100]  eta: 0:00:00  lr: 0.005000  loss: 0.0089 (0.0093)  loss_classifier: 0.0066 (0.0066)  loss_box_reg: 0.0023 (0.0027)  loss_objectness: 0.0000 (0.0001)  loss_rpn_box_reg: 0.0000 (0.0000)  time: 0.9636  data: 0.0127  max mem: 3951\n",
      "Epoch: [8] Total time: 0:01:36 (0.9659 s / it)\n",
      "creating index...\n",
      "index created!\n",
      "Test:  [  0/100]  eta: 0:00:24  model_time: 0.0866 (0.0866)  evaluator_time: 0.0034 (0.0034)  time: 0.2444  data: 0.1538  max mem: 3951\n",
      "Test:  [ 99/100]  eta: 0:00:00  model_time: 0.0862 (0.0862)  evaluator_time: 0.0022 (0.0024)  time: 0.0917  data: 0.0034  max mem: 3951\n",
      "Test: Total time: 0:00:09 (0.0941 s / it)\n",
      "Averaged stats: model_time: 0.0862 (0.0862)  evaluator_time: 0.0022 (0.0024)\n",
      "Accumulating evaluation results...\n",
      "DONE (t=0.07s).\n",
      "IoU metric: bbox\n",
      " Average Precision  (AP) @[ IoU=0.50:0.95 | area=   all | maxDets=100 ] = 0.999\n",
      " Average Precision  (AP) @[ IoU=0.50      | area=   all | maxDets=100 ] = 1.000\n",
      " Average Precision  (AP) @[ IoU=0.75      | area=   all | maxDets=100 ] = 1.000\n",
      " Average Precision  (AP) @[ IoU=0.50:0.95 | area= small | maxDets=100 ] = 0.999\n",
      " Average Precision  (AP) @[ IoU=0.50:0.95 | area=medium | maxDets=100 ] = -1.000\n",
      " Average Precision  (AP) @[ IoU=0.50:0.95 | area= large | maxDets=100 ] = -1.000\n",
      " Average Recall     (AR) @[ IoU=0.50:0.95 | area=   all | maxDets=  1 ] = 1.000\n",
      " Average Recall     (AR) @[ IoU=0.50:0.95 | area=   all | maxDets= 10 ] = 1.000\n",
      " Average Recall     (AR) @[ IoU=0.50:0.95 | area=   all | maxDets=100 ] = 1.000\n",
      " Average Recall     (AR) @[ IoU=0.50:0.95 | area= small | maxDets=100 ] = 1.000\n",
      " Average Recall     (AR) @[ IoU=0.50:0.95 | area=medium | maxDets=100 ] = -1.000\n",
      " Average Recall     (AR) @[ IoU=0.50:0.95 | area= large | maxDets=100 ] = -1.000\n",
      "Epoch: [9]  [  0/100]  eta: 0:01:53  lr: 0.005000  loss: 0.0101 (0.0101)  loss_classifier: 0.0080 (0.0080)  loss_box_reg: 0.0020 (0.0020)  loss_objectness: 0.0001 (0.0001)  loss_rpn_box_reg: 0.0000 (0.0000)  time: 1.1312  data: 0.1735  max mem: 3951\n",
      "Epoch: [9]  [ 20/100]  eta: 0:01:17  lr: 0.005000  loss: 0.0075 (0.0087)  loss_classifier: 0.0052 (0.0061)  loss_box_reg: 0.0022 (0.0025)  loss_objectness: 0.0000 (0.0001)  loss_rpn_box_reg: 0.0000 (0.0000)  time: 0.9652  data: 0.0142  max mem: 3951\n",
      "Epoch: [9]  [ 40/100]  eta: 0:00:58  lr: 0.005000  loss: 0.0098 (0.0090)  loss_classifier: 0.0066 (0.0063)  loss_box_reg: 0.0025 (0.0026)  loss_objectness: 0.0001 (0.0001)  loss_rpn_box_reg: 0.0000 (0.0000)  time: 0.9644  data: 0.0129  max mem: 3951\n",
      "Epoch: [9]  [ 60/100]  eta: 0:00:38  lr: 0.005000  loss: 0.0080 (0.0087)  loss_classifier: 0.0057 (0.0061)  loss_box_reg: 0.0024 (0.0025)  loss_objectness: 0.0000 (0.0001)  loss_rpn_box_reg: 0.0000 (0.0000)  time: 0.9626  data: 0.0126  max mem: 3951\n",
      "Epoch: [9]  [ 80/100]  eta: 0:00:19  lr: 0.005000  loss: 0.0086 (0.0087)  loss_classifier: 0.0056 (0.0061)  loss_box_reg: 0.0024 (0.0026)  loss_objectness: 0.0000 (0.0001)  loss_rpn_box_reg: 0.0000 (0.0000)  time: 0.9645  data: 0.0127  max mem: 3951\n",
      "Epoch: [9]  [ 99/100]  eta: 0:00:00  lr: 0.005000  loss: 0.0088 (0.0088)  loss_classifier: 0.0061 (0.0061)  loss_box_reg: 0.0026 (0.0026)  loss_objectness: 0.0000 (0.0001)  loss_rpn_box_reg: 0.0000 (0.0000)  time: 0.9632  data: 0.0123  max mem: 3951\n",
      "Epoch: [9] Total time: 0:01:36 (0.9668 s / it)\n",
      "creating index...\n",
      "index created!\n",
      "Test:  [  0/100]  eta: 0:00:23  model_time: 0.0888 (0.0888)  evaluator_time: 0.0036 (0.0036)  time: 0.2376  data: 0.1445  max mem: 3951\n",
      "Test:  [ 99/100]  eta: 0:00:00  model_time: 0.0859 (0.0863)  evaluator_time: 0.0022 (0.0024)  time: 0.0917  data: 0.0034  max mem: 3951\n",
      "Test: Total time: 0:00:09 (0.0942 s / it)\n",
      "Averaged stats: model_time: 0.0859 (0.0863)  evaluator_time: 0.0022 (0.0024)\n",
      "Accumulating evaluation results...\n",
      "DONE (t=0.07s).\n",
      "IoU metric: bbox\n",
      " Average Precision  (AP) @[ IoU=0.50:0.95 | area=   all | maxDets=100 ] = 0.999\n",
      " Average Precision  (AP) @[ IoU=0.50      | area=   all | maxDets=100 ] = 1.000\n",
      " Average Precision  (AP) @[ IoU=0.75      | area=   all | maxDets=100 ] = 1.000\n",
      " Average Precision  (AP) @[ IoU=0.50:0.95 | area= small | maxDets=100 ] = 0.999\n",
      " Average Precision  (AP) @[ IoU=0.50:0.95 | area=medium | maxDets=100 ] = -1.000\n",
      " Average Precision  (AP) @[ IoU=0.50:0.95 | area= large | maxDets=100 ] = -1.000\n",
      " Average Recall     (AR) @[ IoU=0.50:0.95 | area=   all | maxDets=  1 ] = 0.999\n",
      " Average Recall     (AR) @[ IoU=0.50:0.95 | area=   all | maxDets= 10 ] = 0.999\n",
      " Average Recall     (AR) @[ IoU=0.50:0.95 | area=   all | maxDets=100 ] = 0.999\n",
      " Average Recall     (AR) @[ IoU=0.50:0.95 | area= small | maxDets=100 ] = 0.999\n",
      " Average Recall     (AR) @[ IoU=0.50:0.95 | area=medium | maxDets=100 ] = -1.000\n",
      " Average Recall     (AR) @[ IoU=0.50:0.95 | area= large | maxDets=100 ] = -1.000\n",
      "Epoch: [10]  [  0/100]  eta: 0:01:53  lr: 0.000500  loss: 0.0051 (0.0051)  loss_classifier: 0.0034 (0.0034)  loss_box_reg: 0.0016 (0.0016)  loss_objectness: 0.0000 (0.0000)  loss_rpn_box_reg: 0.0000 (0.0000)  time: 1.1313  data: 0.1781  max mem: 3951\n",
      "Epoch: [10]  [ 20/100]  eta: 0:01:17  lr: 0.000500  loss: 0.0086 (0.0083)  loss_classifier: 0.0059 (0.0057)  loss_box_reg: 0.0024 (0.0025)  loss_objectness: 0.0000 (0.0000)  loss_rpn_box_reg: 0.0000 (0.0000)  time: 0.9640  data: 0.0128  max mem: 3951\n",
      "Epoch: [10]  [ 40/100]  eta: 0:00:58  lr: 0.000500  loss: 0.0087 (0.0086)  loss_classifier: 0.0058 (0.0060)  loss_box_reg: 0.0023 (0.0026)  loss_objectness: 0.0000 (0.0000)  loss_rpn_box_reg: 0.0000 (0.0000)  time: 0.9653  data: 0.0128  max mem: 3951\n",
      "Epoch: [10]  [ 60/100]  eta: 0:00:38  lr: 0.000500  loss: 0.0086 (0.0086)  loss_classifier: 0.0059 (0.0060)  loss_box_reg: 0.0022 (0.0026)  loss_objectness: 0.0000 (0.0000)  loss_rpn_box_reg: 0.0000 (0.0000)  time: 0.9637  data: 0.0126  max mem: 3951\n",
      "Epoch: [10]  [ 80/100]  eta: 0:00:19  lr: 0.000500  loss: 0.0076 (0.0084)  loss_classifier: 0.0054 (0.0059)  loss_box_reg: 0.0021 (0.0025)  loss_objectness: 0.0000 (0.0000)  loss_rpn_box_reg: 0.0000 (0.0000)  time: 0.9667  data: 0.0128  max mem: 3951\n",
      "Epoch: [10]  [ 99/100]  eta: 0:00:00  lr: 0.000500  loss: 0.0078 (0.0084)  loss_classifier: 0.0058 (0.0059)  loss_box_reg: 0.0020 (0.0024)  loss_objectness: 0.0000 (0.0000)  loss_rpn_box_reg: 0.0000 (0.0000)  time: 0.9661  data: 0.0131  max mem: 3951\n",
      "Epoch: [10] Total time: 0:01:36 (0.9680 s / it)\n",
      "creating index...\n",
      "index created!\n",
      "Test:  [  0/100]  eta: 0:00:24  model_time: 0.0879 (0.0879)  evaluator_time: 0.0034 (0.0034)  time: 0.2464  data: 0.1545  max mem: 3951\n",
      "Test:  [ 99/100]  eta: 0:00:00  model_time: 0.0861 (0.0866)  evaluator_time: 0.0022 (0.0025)  time: 0.0920  data: 0.0034  max mem: 3951\n",
      "Test: Total time: 0:00:09 (0.0949 s / it)\n",
      "Averaged stats: model_time: 0.0861 (0.0866)  evaluator_time: 0.0022 (0.0025)\n",
      "Accumulating evaluation results...\n",
      "DONE (t=0.07s).\n",
      "IoU metric: bbox\n",
      " Average Precision  (AP) @[ IoU=0.50:0.95 | area=   all | maxDets=100 ] = 0.999\n",
      " Average Precision  (AP) @[ IoU=0.50      | area=   all | maxDets=100 ] = 1.000\n",
      " Average Precision  (AP) @[ IoU=0.75      | area=   all | maxDets=100 ] = 1.000\n",
      " Average Precision  (AP) @[ IoU=0.50:0.95 | area= small | maxDets=100 ] = 0.999\n",
      " Average Precision  (AP) @[ IoU=0.50:0.95 | area=medium | maxDets=100 ] = -1.000\n",
      " Average Precision  (AP) @[ IoU=0.50:0.95 | area= large | maxDets=100 ] = -1.000\n",
      " Average Recall     (AR) @[ IoU=0.50:0.95 | area=   all | maxDets=  1 ] = 0.999\n",
      " Average Recall     (AR) @[ IoU=0.50:0.95 | area=   all | maxDets= 10 ] = 0.999\n",
      " Average Recall     (AR) @[ IoU=0.50:0.95 | area=   all | maxDets=100 ] = 0.999\n",
      " Average Recall     (AR) @[ IoU=0.50:0.95 | area= small | maxDets=100 ] = 0.999\n",
      " Average Recall     (AR) @[ IoU=0.50:0.95 | area=medium | maxDets=100 ] = -1.000\n",
      " Average Recall     (AR) @[ IoU=0.50:0.95 | area= large | maxDets=100 ] = -1.000\n",
      "Epoch: [11]  [  0/100]  eta: 0:01:52  lr: 0.000500  loss: 0.0064 (0.0064)  loss_classifier: 0.0046 (0.0046)  loss_box_reg: 0.0017 (0.0017)  loss_objectness: 0.0000 (0.0000)  loss_rpn_box_reg: 0.0000 (0.0000)  time: 1.1228  data: 0.1701  max mem: 3951\n",
      "Epoch: [11]  [ 20/100]  eta: 0:01:17  lr: 0.000500  loss: 0.0090 (0.0085)  loss_classifier: 0.0056 (0.0058)  loss_box_reg: 0.0023 (0.0027)  loss_objectness: 0.0000 (0.0000)  loss_rpn_box_reg: 0.0000 (0.0000)  time: 0.9646  data: 0.0124  max mem: 3951\n",
      "Epoch: [11]  [ 40/100]  eta: 0:00:58  lr: 0.000500  loss: 0.0066 (0.0081)  loss_classifier: 0.0051 (0.0057)  loss_box_reg: 0.0021 (0.0024)  loss_objectness: 0.0000 (0.0000)  loss_rpn_box_reg: 0.0000 (0.0000)  time: 0.9652  data: 0.0130  max mem: 3951\n",
      "Epoch: [11]  [ 60/100]  eta: 0:00:38  lr: 0.000500  loss: 0.0080 (0.0080)  loss_classifier: 0.0058 (0.0057)  loss_box_reg: 0.0020 (0.0023)  loss_objectness: 0.0000 (0.0000)  loss_rpn_box_reg: 0.0000 (0.0000)  time: 0.9648  data: 0.0131  max mem: 3951\n",
      "Epoch: [11]  [ 80/100]  eta: 0:00:19  lr: 0.000500  loss: 0.0080 (0.0081)  loss_classifier: 0.0057 (0.0058)  loss_box_reg: 0.0022 (0.0023)  loss_objectness: 0.0000 (0.0000)  loss_rpn_box_reg: 0.0000 (0.0000)  time: 0.9642  data: 0.0126  max mem: 3951\n",
      "Epoch: [11]  [ 99/100]  eta: 0:00:00  lr: 0.000500  loss: 0.0086 (0.0083)  loss_classifier: 0.0061 (0.0058)  loss_box_reg: 0.0024 (0.0024)  loss_objectness: 0.0000 (0.0000)  loss_rpn_box_reg: 0.0000 (0.0000)  time: 0.9636  data: 0.0129  max mem: 3951\n",
      "Epoch: [11] Total time: 0:01:36 (0.9673 s / it)\n",
      "creating index...\n",
      "index created!\n",
      "Test:  [  0/100]  eta: 0:00:24  model_time: 0.0873 (0.0873)  evaluator_time: 0.0034 (0.0034)  time: 0.2423  data: 0.1510  max mem: 3951\n",
      "Test:  [ 99/100]  eta: 0:00:00  model_time: 0.0865 (0.0866)  evaluator_time: 0.0023 (0.0025)  time: 0.0927  data: 0.0037  max mem: 3951\n",
      "Test: Total time: 0:00:09 (0.0951 s / it)\n",
      "Averaged stats: model_time: 0.0865 (0.0866)  evaluator_time: 0.0023 (0.0025)\n",
      "Accumulating evaluation results...\n",
      "DONE (t=0.07s).\n",
      "IoU metric: bbox\n",
      " Average Precision  (AP) @[ IoU=0.50:0.95 | area=   all | maxDets=100 ] = 0.999\n",
      " Average Precision  (AP) @[ IoU=0.50      | area=   all | maxDets=100 ] = 1.000\n",
      " Average Precision  (AP) @[ IoU=0.75      | area=   all | maxDets=100 ] = 1.000\n",
      " Average Precision  (AP) @[ IoU=0.50:0.95 | area= small | maxDets=100 ] = 0.999\n",
      " Average Precision  (AP) @[ IoU=0.50:0.95 | area=medium | maxDets=100 ] = -1.000\n",
      " Average Precision  (AP) @[ IoU=0.50:0.95 | area= large | maxDets=100 ] = -1.000\n",
      " Average Recall     (AR) @[ IoU=0.50:0.95 | area=   all | maxDets=  1 ] = 0.999\n",
      " Average Recall     (AR) @[ IoU=0.50:0.95 | area=   all | maxDets= 10 ] = 0.999\n",
      " Average Recall     (AR) @[ IoU=0.50:0.95 | area=   all | maxDets=100 ] = 0.999\n",
      " Average Recall     (AR) @[ IoU=0.50:0.95 | area= small | maxDets=100 ] = 0.999\n",
      " Average Recall     (AR) @[ IoU=0.50:0.95 | area=medium | maxDets=100 ] = -1.000\n",
      " Average Recall     (AR) @[ IoU=0.50:0.95 | area= large | maxDets=100 ] = -1.000\n",
      "Epoch: [12]  [  0/100]  eta: 0:01:54  lr: 0.000500  loss: 0.0055 (0.0055)  loss_classifier: 0.0040 (0.0040)  loss_box_reg: 0.0015 (0.0015)  loss_objectness: 0.0000 (0.0000)  loss_rpn_box_reg: 0.0000 (0.0000)  time: 1.1405  data: 0.1803  max mem: 3951\n",
      "Epoch: [12]  [ 20/100]  eta: 0:01:17  lr: 0.000500  loss: 0.0079 (0.0080)  loss_classifier: 0.0057 (0.0057)  loss_box_reg: 0.0022 (0.0023)  loss_objectness: 0.0000 (0.0000)  loss_rpn_box_reg: 0.0000 (0.0000)  time: 0.9648  data: 0.0137  max mem: 3951\n",
      "Epoch: [12]  [ 40/100]  eta: 0:00:58  lr: 0.000500  loss: 0.0086 (0.0082)  loss_classifier: 0.0064 (0.0060)  loss_box_reg: 0.0021 (0.0022)  loss_objectness: 0.0000 (0.0000)  loss_rpn_box_reg: 0.0000 (0.0000)  time: 0.9642  data: 0.0125  max mem: 3951\n",
      "Epoch: [12]  [ 60/100]  eta: 0:00:38  lr: 0.000500  loss: 0.0085 (0.0084)  loss_classifier: 0.0058 (0.0059)  loss_box_reg: 0.0027 (0.0024)  loss_objectness: 0.0000 (0.0000)  loss_rpn_box_reg: 0.0000 (0.0000)  time: 0.9646  data: 0.0125  max mem: 3951\n",
      "Epoch: [12]  [ 80/100]  eta: 0:00:19  lr: 0.000500  loss: 0.0080 (0.0083)  loss_classifier: 0.0056 (0.0059)  loss_box_reg: 0.0022 (0.0023)  loss_objectness: 0.0000 (0.0000)  loss_rpn_box_reg: 0.0000 (0.0000)  time: 0.9657  data: 0.0133  max mem: 3951\n",
      "Epoch: [12]  [ 99/100]  eta: 0:00:00  lr: 0.000500  loss: 0.0084 (0.0083)  loss_classifier: 0.0057 (0.0059)  loss_box_reg: 0.0023 (0.0024)  loss_objectness: 0.0000 (0.0000)  loss_rpn_box_reg: 0.0000 (0.0000)  time: 0.9641  data: 0.0125  max mem: 3951\n",
      "Epoch: [12] Total time: 0:01:36 (0.9675 s / it)\n",
      "creating index...\n",
      "index created!\n",
      "Test:  [  0/100]  eta: 0:00:23  model_time: 0.0896 (0.0896)  evaluator_time: 0.0034 (0.0034)  time: 0.2384  data: 0.1447  max mem: 3951\n",
      "Test:  [ 99/100]  eta: 0:00:00  model_time: 0.0870 (0.0866)  evaluator_time: 0.0024 (0.0024)  time: 0.0930  data: 0.0035  max mem: 3951\n",
      "Test: Total time: 0:00:09 (0.0946 s / it)\n",
      "Averaged stats: model_time: 0.0870 (0.0866)  evaluator_time: 0.0024 (0.0024)\n",
      "Accumulating evaluation results...\n",
      "DONE (t=0.07s).\n",
      "IoU metric: bbox\n",
      " Average Precision  (AP) @[ IoU=0.50:0.95 | area=   all | maxDets=100 ] = 0.999\n",
      " Average Precision  (AP) @[ IoU=0.50      | area=   all | maxDets=100 ] = 1.000\n",
      " Average Precision  (AP) @[ IoU=0.75      | area=   all | maxDets=100 ] = 1.000\n",
      " Average Precision  (AP) @[ IoU=0.50:0.95 | area= small | maxDets=100 ] = 0.999\n",
      " Average Precision  (AP) @[ IoU=0.50:0.95 | area=medium | maxDets=100 ] = -1.000\n",
      " Average Precision  (AP) @[ IoU=0.50:0.95 | area= large | maxDets=100 ] = -1.000\n",
      " Average Recall     (AR) @[ IoU=0.50:0.95 | area=   all | maxDets=  1 ] = 0.999\n",
      " Average Recall     (AR) @[ IoU=0.50:0.95 | area=   all | maxDets= 10 ] = 0.999\n",
      " Average Recall     (AR) @[ IoU=0.50:0.95 | area=   all | maxDets=100 ] = 0.999\n",
      " Average Recall     (AR) @[ IoU=0.50:0.95 | area= small | maxDets=100 ] = 0.999\n",
      " Average Recall     (AR) @[ IoU=0.50:0.95 | area=medium | maxDets=100 ] = -1.000\n",
      " Average Recall     (AR) @[ IoU=0.50:0.95 | area= large | maxDets=100 ] = -1.000\n",
      "Epoch: [13]  [  0/100]  eta: 0:01:54  lr: 0.000500  loss: 0.0076 (0.0076)  loss_classifier: 0.0053 (0.0053)  loss_box_reg: 0.0023 (0.0023)  loss_objectness: 0.0001 (0.0001)  loss_rpn_box_reg: 0.0000 (0.0000)  time: 1.1474  data: 0.1867  max mem: 3951\n",
      "Epoch: [13]  [ 20/100]  eta: 0:01:17  lr: 0.000500  loss: 0.0078 (0.0080)  loss_classifier: 0.0055 (0.0058)  loss_box_reg: 0.0022 (0.0022)  loss_objectness: 0.0000 (0.0000)  loss_rpn_box_reg: 0.0000 (0.0000)  time: 0.9642  data: 0.0120  max mem: 3951\n",
      "Epoch: [13]  [ 40/100]  eta: 0:00:58  lr: 0.000500  loss: 0.0076 (0.0081)  loss_classifier: 0.0058 (0.0058)  loss_box_reg: 0.0023 (0.0022)  loss_objectness: 0.0000 (0.0000)  loss_rpn_box_reg: 0.0000 (0.0000)  time: 0.9655  data: 0.0129  max mem: 3951\n",
      "Epoch: [13]  [ 60/100]  eta: 0:00:38  lr: 0.000500  loss: 0.0082 (0.0082)  loss_classifier: 0.0054 (0.0059)  loss_box_reg: 0.0024 (0.0022)  loss_objectness: 0.0000 (0.0000)  loss_rpn_box_reg: 0.0000 (0.0000)  time: 0.9657  data: 0.0128  max mem: 3951\n",
      "Epoch: [13]  [ 80/100]  eta: 0:00:19  lr: 0.000500  loss: 0.0081 (0.0081)  loss_classifier: 0.0051 (0.0057)  loss_box_reg: 0.0022 (0.0023)  loss_objectness: 0.0000 (0.0000)  loss_rpn_box_reg: 0.0000 (0.0000)  time: 0.9652  data: 0.0130  max mem: 3951\n",
      "Epoch: [13]  [ 99/100]  eta: 0:00:00  lr: 0.000500  loss: 0.0071 (0.0081)  loss_classifier: 0.0050 (0.0057)  loss_box_reg: 0.0023 (0.0024)  loss_objectness: 0.0000 (0.0000)  loss_rpn_box_reg: 0.0000 (0.0000)  time: 0.9655  data: 0.0124  max mem: 3951\n",
      "Epoch: [13] Total time: 0:01:36 (0.9681 s / it)\n",
      "creating index...\n",
      "index created!\n",
      "Test:  [  0/100]  eta: 0:00:25  model_time: 0.0892 (0.0892)  evaluator_time: 0.0036 (0.0036)  time: 0.2552  data: 0.1614  max mem: 3951\n",
      "Test:  [ 99/100]  eta: 0:00:00  model_time: 0.0859 (0.0864)  evaluator_time: 0.0022 (0.0025)  time: 0.0921  data: 0.0035  max mem: 3951\n",
      "Test: Total time: 0:00:09 (0.0953 s / it)\n",
      "Averaged stats: model_time: 0.0859 (0.0864)  evaluator_time: 0.0022 (0.0025)\n",
      "Accumulating evaluation results...\n",
      "DONE (t=0.08s).\n",
      "IoU metric: bbox\n",
      " Average Precision  (AP) @[ IoU=0.50:0.95 | area=   all | maxDets=100 ] = 0.999\n",
      " Average Precision  (AP) @[ IoU=0.50      | area=   all | maxDets=100 ] = 1.000\n",
      " Average Precision  (AP) @[ IoU=0.75      | area=   all | maxDets=100 ] = 1.000\n",
      " Average Precision  (AP) @[ IoU=0.50:0.95 | area= small | maxDets=100 ] = 0.999\n",
      " Average Precision  (AP) @[ IoU=0.50:0.95 | area=medium | maxDets=100 ] = -1.000\n",
      " Average Precision  (AP) @[ IoU=0.50:0.95 | area= large | maxDets=100 ] = -1.000\n",
      " Average Recall     (AR) @[ IoU=0.50:0.95 | area=   all | maxDets=  1 ] = 0.999\n",
      " Average Recall     (AR) @[ IoU=0.50:0.95 | area=   all | maxDets= 10 ] = 0.999\n",
      " Average Recall     (AR) @[ IoU=0.50:0.95 | area=   all | maxDets=100 ] = 0.999\n",
      " Average Recall     (AR) @[ IoU=0.50:0.95 | area= small | maxDets=100 ] = 0.999\n",
      " Average Recall     (AR) @[ IoU=0.50:0.95 | area=medium | maxDets=100 ] = -1.000\n",
      " Average Recall     (AR) @[ IoU=0.50:0.95 | area= large | maxDets=100 ] = -1.000\n",
      "Epoch: [14]  [  0/100]  eta: 0:01:53  lr: 0.000500  loss: 0.0087 (0.0087)  loss_classifier: 0.0068 (0.0068)  loss_box_reg: 0.0019 (0.0019)  loss_objectness: 0.0000 (0.0000)  loss_rpn_box_reg: 0.0000 (0.0000)  time: 1.1382  data: 0.1829  max mem: 3951\n",
      "Epoch: [14]  [ 20/100]  eta: 0:01:17  lr: 0.000500  loss: 0.0072 (0.0073)  loss_classifier: 0.0049 (0.0051)  loss_box_reg: 0.0020 (0.0021)  loss_objectness: 0.0000 (0.0000)  loss_rpn_box_reg: 0.0000 (0.0000)  time: 0.9662  data: 0.0121  max mem: 3951\n",
      "Epoch: [14]  [ 40/100]  eta: 0:00:58  lr: 0.000500  loss: 0.0084 (0.0079)  loss_classifier: 0.0059 (0.0055)  loss_box_reg: 0.0022 (0.0023)  loss_objectness: 0.0000 (0.0000)  loss_rpn_box_reg: 0.0000 (0.0000)  time: 0.9665  data: 0.0128  max mem: 3951\n",
      "Epoch: [14]  [ 60/100]  eta: 0:00:38  lr: 0.000500  loss: 0.0074 (0.0079)  loss_classifier: 0.0054 (0.0056)  loss_box_reg: 0.0020 (0.0023)  loss_objectness: 0.0000 (0.0000)  loss_rpn_box_reg: 0.0000 (0.0000)  time: 0.9681  data: 0.0127  max mem: 3951\n",
      "Epoch: [14]  [ 80/100]  eta: 0:00:19  lr: 0.000500  loss: 0.0076 (0.0080)  loss_classifier: 0.0056 (0.0056)  loss_box_reg: 0.0023 (0.0023)  loss_objectness: 0.0000 (0.0000)  loss_rpn_box_reg: 0.0000 (0.0000)  time: 0.9681  data: 0.0127  max mem: 3951\n",
      "Epoch: [14]  [ 99/100]  eta: 0:00:00  lr: 0.000500  loss: 0.0077 (0.0080)  loss_classifier: 0.0051 (0.0056)  loss_box_reg: 0.0021 (0.0023)  loss_objectness: 0.0000 (0.0000)  loss_rpn_box_reg: 0.0000 (0.0000)  time: 0.9679  data: 0.0138  max mem: 3951\n",
      "Epoch: [14] Total time: 0:01:37 (0.9702 s / it)\n",
      "creating index...\n",
      "index created!\n",
      "Test:  [  0/100]  eta: 0:00:24  model_time: 0.0901 (0.0901)  evaluator_time: 0.0033 (0.0033)  time: 0.2458  data: 0.1517  max mem: 3951\n",
      "Test:  [ 99/100]  eta: 0:00:00  model_time: 0.0865 (0.0865)  evaluator_time: 0.0022 (0.0024)  time: 0.0922  data: 0.0033  max mem: 3951\n",
      "Test: Total time: 0:00:09 (0.0949 s / it)\n",
      "Averaged stats: model_time: 0.0865 (0.0865)  evaluator_time: 0.0022 (0.0024)\n",
      "Accumulating evaluation results...\n",
      "DONE (t=0.07s).\n",
      "IoU metric: bbox\n",
      " Average Precision  (AP) @[ IoU=0.50:0.95 | area=   all | maxDets=100 ] = 0.999\n",
      " Average Precision  (AP) @[ IoU=0.50      | area=   all | maxDets=100 ] = 1.000\n",
      " Average Precision  (AP) @[ IoU=0.75      | area=   all | maxDets=100 ] = 1.000\n",
      " Average Precision  (AP) @[ IoU=0.50:0.95 | area= small | maxDets=100 ] = 0.999\n",
      " Average Precision  (AP) @[ IoU=0.50:0.95 | area=medium | maxDets=100 ] = -1.000\n",
      " Average Precision  (AP) @[ IoU=0.50:0.95 | area= large | maxDets=100 ] = -1.000\n",
      " Average Recall     (AR) @[ IoU=0.50:0.95 | area=   all | maxDets=  1 ] = 0.999\n",
      " Average Recall     (AR) @[ IoU=0.50:0.95 | area=   all | maxDets= 10 ] = 0.999\n",
      " Average Recall     (AR) @[ IoU=0.50:0.95 | area=   all | maxDets=100 ] = 0.999\n",
      " Average Recall     (AR) @[ IoU=0.50:0.95 | area= small | maxDets=100 ] = 0.999\n",
      " Average Recall     (AR) @[ IoU=0.50:0.95 | area=medium | maxDets=100 ] = -1.000\n",
      " Average Recall     (AR) @[ IoU=0.50:0.95 | area= large | maxDets=100 ] = -1.000\n",
      "That's it!\n"
     ]
    }
   ],
   "source": [
    "# move RCNN to drive\n",
    "model.to(device)\n",
    "\n",
    "# construct an optimizer\n",
    "params = [p for p in model.parameters() if p.requires_grad]\n",
    "optimizer = torch.optim.SGD(params, lr=0.05,\n",
    "                            momentum=0.9, weight_decay=0.0005)\n",
    "# and a learning rate scheduler\n",
    "lr_scheduler = torch.optim.lr_scheduler.StepLR(optimizer,\n",
    "                                                step_size=5,\n",
    "                                                gamma=0.1)\n",
    "# let's train it for 10 epochs\n",
    "num_epochs = 15\n",
    "print('start training')\n",
    "for epoch in range(num_epochs):\n",
    "    # train for one epoch, printing every 10 iterations\n",
    "    train_one_epoch(model, optimizer, data_loader, device, epoch, print_freq=20)\n",
    "    # update the learning rate\n",
    "    lr_scheduler.step()\n",
    "    # evaluate on the test dataset\n",
    "    evaluate(model, data_loader_test, device=device)\n",
    "\n",
    "print(\"That's it!\")"
   ]
  },
  {
   "cell_type": "code",
   "execution_count": 10,
   "metadata": {
    "colab": {
     "base_uri": "https://localhost:8080/",
     "height": 683
    },
    "colab_type": "code",
    "executionInfo": {
     "elapsed": 1801,
     "status": "ok",
     "timestamp": 1599077846915,
     "user": {
      "displayName": "Hengjia Li",
      "photoUrl": "",
      "userId": "02854047283997062253"
     },
     "user_tz": -480
    },
    "id": "dgoMX_s760od",
    "outputId": "67771942-4349-4657-b3c7-0d141b91de3d"
   },
   "outputs": [
    {
     "name": "stderr",
     "output_type": "stream",
     "text": [
      "/usr/local/lib/python3.6/dist-packages/torchvision/ops/boxes.py:101: UserWarning: This overload of nonzero is deprecated:\n",
      "\tnonzero()\n",
      "Consider using one of the following signatures instead:\n",
      "\tnonzero(*, bool as_tuple) (Triggered internally at  /pytorch/torch/csrc/utils/python_arg_parser.cpp:766.)\n",
      "  keep = keep.nonzero().squeeze(1)\n"
     ]
    },
    {
     "name": "stdout",
     "output_type": "stream",
     "text": [
      "6 38 17 48\n",
      "23 52 33 63\n",
      "40 37 50 48\n",
      "19 4 29 14\n",
      "6 11 16 22\n",
      "60 16 70 25\n",
      "\n",
      "\n",
      "23 53 33 63\n",
      "7 39 17 49\n",
      "19 4 29 14\n",
      "40 38 50 48\n",
      "61 16 71 26\n",
      "6 12 16 22\n"
     ]
    },
    {
     "data": {
      "text/plain": [
       "<matplotlib.image.AxesImage at 0x7f19b276f6a0>"
      ]
     },
     "execution_count": 10,
     "metadata": {
      "tags": []
     },
     "output_type": "execute_result"
    },
    {
     "data": {
      "image/png": "[encoded data removed]",
      "text/plain": [
       "<Figure size 720x360 with 2 Axes>"
      ]
     },
     "metadata": {
      "needs_background": "light",
      "tags": []
     },
     "output_type": "display_data"
    }
   ],
   "source": [
    "data = test_datasets[9]\n",
    "img1 = copy.deepcopy(data[0])\n",
    "img2 = copy.deepcopy(data[0])\n",
    "im = torch.from_numpy(img1.transpose(2,0,1)).float().to(device)\n",
    "model.eval()\n",
    "predictions = model([im])\n",
    "bounding_boxes=predictions[0]['boxes']\n",
    "for i in range(len(bounding_boxes)):\n",
    "  if i < 6:\n",
    "    x1, y1, x2, y2 = map(int, bounding_boxes[i].tolist())\n",
    "    print(x1, y1, x2, y2)\n",
    "    image1 = cv2.rectangle(img1, (x1, y1), (x2, y2), (0, 0,0),1)\n",
    "print('\\n')\n",
    "bounding_boxes=data[3]['boxes']\n",
    "for i in range(len(bounding_boxes)):\n",
    "  if i < 6 :\n",
    "    x1, y1, x2, y2 = map(int, bounding_boxes[i].tolist())\n",
    "    print(x1, y1, x2, y2)\n",
    "    image2 = cv2.rectangle(img2, (x1, y1), (x2, y2), (0, 0,0),1)\n",
    "fig, axs = plt.subplots(1,2,figsize=(10,5))\n",
    "fig.suptitle('Faster RCNN Prediction and GT')\n",
    "axs[0].imshow(image1[:,:,::-1])\n",
    "axs[1].imshow(image2[:,:,::-1])"
   ]
  },
  {
   "cell_type": "code",
   "execution_count": 12,
   "metadata": {
    "colab": {
     "base_uri": "https://localhost:8080/",
     "height": 185
    },
    "colab_type": "code",
    "executionInfo": {
     "elapsed": 1601239,
     "status": "ok",
     "timestamp": 1599070908553,
     "user": {
      "displayName": "Hengjia Li",
      "photoUrl": "",
      "userId": "02854047283997062253"
     },
     "user_tz": -480
    },
    "id": "bRyEX-A_zuLA",
    "outputId": "17a2520f-8231-48e9-81ec-b4d7259fb560"
   },
   "outputs": [
    {
     "data": {
      "text/plain": [
       "[{'boxes': tensor([[10.9276, 18.0163, 20.9878, 28.0142],\n",
       "          [39.0251, 15.0070, 49.0194, 24.9764],\n",
       "          [37.9921, 60.0188, 47.9841, 69.9687],\n",
       "          [26.9959, 23.0188, 37.0271, 33.0188],\n",
       "          [26.9719, 57.9919, 37.0080, 68.0279],\n",
       "          [15.0040,  2.0051, 24.9637, 11.9731]], device='cuda:0',\n",
       "         grad_fn=<StackBackward>),\n",
       "  'labels': tensor([11,  4,  8,  6,  1,  3], device='cuda:0'),\n",
       "  'scores': tensor([0.9995, 0.9994, 0.9994, 0.9992, 0.9990, 0.9989], device='cuda:0',\n",
       "         grad_fn=<IndexBackward>)}]"
      ]
     },
     "execution_count": 12,
     "metadata": {
      "tags": []
     },
     "output_type": "execute_result"
    }
   ],
   "source": [
    "predictions"
   ]
  },
  {
   "cell_type": "code",
   "execution_count": 13,
   "metadata": {
    "colab": {},
    "colab_type": "code",
    "executionInfo": {
     "elapsed": 1602250,
     "status": "ok",
     "timestamp": 1599070909571,
     "user": {
      "displayName": "Hengjia Li",
      "photoUrl": "",
      "userId": "02854047283997062253"
     },
     "user_tz": -480
    },
    "id": "WfIcjXX8SwPj"
   },
   "outputs": [],
   "source": [
    "#save model\n",
    "model_save_name = 'rcnn.pth'\n",
    "path = F\"/content/drive/My Drive/Evolution.AI---RN/model_saved/{model_save_name}\"  \n",
    "torch.save(model.state_dict(), path)"
   ]
  },
  {
   "cell_type": "code",
   "execution_count": null,
   "metadata": {
    "colab": {},
    "colab_type": "code",
    "id": "3QBCOHN1o2RP"
   },
   "outputs": [],
   "source": []
  }
 ],
 "metadata": {
  "accelerator": "GPU",
  "colab": {
   "collapsed_sections": [],
   "name": "Faster_RCNN.ipynb",
   "provenance": []
  },
  "kernelspec": {
   "display_name": "Python 3",
   "language": "python",
   "name": "python3"
  },
  "language_info": {
   "codemirror_mode": {
    "name": "ipython",
    "version": 3
   },
   "file_extension": ".py",
   "mimetype": "text/x-python",
   "name": "python",
   "nbconvert_exporter": "python",
   "pygments_lexer": "ipython3",
   "version": "3.8.1"
  }
 },
 "nbformat": 4,
 "nbformat_minor": 1
}
